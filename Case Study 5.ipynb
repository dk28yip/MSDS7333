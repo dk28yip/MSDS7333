{
 "cells": [
  {
   "cell_type": "code",
   "execution_count": 60,
   "id": "409aa11a",
   "metadata": {},
   "outputs": [],
   "source": [
    "## Use SVM and SGD to attempt to model and predict the class of an internet connection request.\n",
    "## Import Necessary Libraries\n",
    "import os\n",
    "import pandas as pd\n",
    "import matplotlib.pyplot as plt\n",
    "from sklearn.preprocessing import StandardScaler\n"
   ]
  },
  {
   "cell_type": "code",
   "execution_count": 61,
   "id": "02953eca",
   "metadata": {},
   "outputs": [
    {
     "name": "stdout",
     "output_type": "stream",
     "text": [
      "<class 'pandas.core.frame.DataFrame'>\n",
      "RangeIndex: 65532 entries, 0 to 65531\n",
      "Data columns (total 12 columns):\n",
      " #   Column                Non-Null Count  Dtype \n",
      "---  ------                --------------  ----- \n",
      " 0   Source Port           65532 non-null  int64 \n",
      " 1   Destination Port      65532 non-null  int64 \n",
      " 2   NAT Source Port       65532 non-null  int64 \n",
      " 3   NAT Destination Port  65532 non-null  int64 \n",
      " 4   Action                65532 non-null  object\n",
      " 5   Bytes                 65532 non-null  int64 \n",
      " 6   Bytes Sent            65532 non-null  int64 \n",
      " 7   Bytes Received        65532 non-null  int64 \n",
      " 8   Packets               65532 non-null  int64 \n",
      " 9   Elapsed Time (sec)    65532 non-null  int64 \n",
      " 10  pkts_sent             65532 non-null  int64 \n",
      " 11  pkts_received         65532 non-null  int64 \n",
      "dtypes: int64(11), object(1)\n",
      "memory usage: 6.0+ MB\n"
     ]
    },
    {
     "data": {
      "text/html": [
       "<div>\n",
       "<style scoped>\n",
       "    .dataframe tbody tr th:only-of-type {\n",
       "        vertical-align: middle;\n",
       "    }\n",
       "\n",
       "    .dataframe tbody tr th {\n",
       "        vertical-align: top;\n",
       "    }\n",
       "\n",
       "    .dataframe thead th {\n",
       "        text-align: right;\n",
       "    }\n",
       "</style>\n",
       "<table border=\"1\" class=\"dataframe\">\n",
       "  <thead>\n",
       "    <tr style=\"text-align: right;\">\n",
       "      <th></th>\n",
       "      <th>Source Port</th>\n",
       "      <th>Destination Port</th>\n",
       "      <th>NAT Source Port</th>\n",
       "      <th>NAT Destination Port</th>\n",
       "      <th>Bytes</th>\n",
       "      <th>Bytes Sent</th>\n",
       "      <th>Bytes Received</th>\n",
       "      <th>Packets</th>\n",
       "      <th>Elapsed Time (sec)</th>\n",
       "      <th>pkts_sent</th>\n",
       "      <th>pkts_received</th>\n",
       "    </tr>\n",
       "  </thead>\n",
       "  <tbody>\n",
       "    <tr>\n",
       "      <th>count</th>\n",
       "      <td>65532.00000</td>\n",
       "      <td>65532.00000</td>\n",
       "      <td>65532.00000</td>\n",
       "      <td>65532.00000</td>\n",
       "      <td>65532.00000</td>\n",
       "      <td>65532.00000</td>\n",
       "      <td>65532.00000</td>\n",
       "      <td>65532.00000</td>\n",
       "      <td>65532.00000</td>\n",
       "      <td>65532.00000</td>\n",
       "      <td>65532.00000</td>\n",
       "    </tr>\n",
       "    <tr>\n",
       "      <th>mean</th>\n",
       "      <td>49391.96934</td>\n",
       "      <td>10577.38581</td>\n",
       "      <td>19282.97276</td>\n",
       "      <td>2671.04993</td>\n",
       "      <td>97123.95009</td>\n",
       "      <td>22385.79691</td>\n",
       "      <td>74738.15318</td>\n",
       "      <td>102.86603</td>\n",
       "      <td>65.83358</td>\n",
       "      <td>41.39953</td>\n",
       "      <td>61.46650</td>\n",
       "    </tr>\n",
       "    <tr>\n",
       "      <th>std</th>\n",
       "      <td>15255.71254</td>\n",
       "      <td>18466.02704</td>\n",
       "      <td>21970.68967</td>\n",
       "      <td>9739.16228</td>\n",
       "      <td>5618438.90905</td>\n",
       "      <td>3828138.64979</td>\n",
       "      <td>2463207.71188</td>\n",
       "      <td>5133.00235</td>\n",
       "      <td>302.46176</td>\n",
       "      <td>3218.87129</td>\n",
       "      <td>2223.33227</td>\n",
       "    </tr>\n",
       "    <tr>\n",
       "      <th>min</th>\n",
       "      <td>0.00000</td>\n",
       "      <td>0.00000</td>\n",
       "      <td>0.00000</td>\n",
       "      <td>0.00000</td>\n",
       "      <td>60.00000</td>\n",
       "      <td>60.00000</td>\n",
       "      <td>0.00000</td>\n",
       "      <td>1.00000</td>\n",
       "      <td>0.00000</td>\n",
       "      <td>1.00000</td>\n",
       "      <td>0.00000</td>\n",
       "    </tr>\n",
       "    <tr>\n",
       "      <th>25%</th>\n",
       "      <td>49183.00000</td>\n",
       "      <td>80.00000</td>\n",
       "      <td>0.00000</td>\n",
       "      <td>0.00000</td>\n",
       "      <td>66.00000</td>\n",
       "      <td>66.00000</td>\n",
       "      <td>0.00000</td>\n",
       "      <td>1.00000</td>\n",
       "      <td>0.00000</td>\n",
       "      <td>1.00000</td>\n",
       "      <td>0.00000</td>\n",
       "    </tr>\n",
       "    <tr>\n",
       "      <th>50%</th>\n",
       "      <td>53776.50000</td>\n",
       "      <td>445.00000</td>\n",
       "      <td>8820.50000</td>\n",
       "      <td>53.00000</td>\n",
       "      <td>168.00000</td>\n",
       "      <td>90.00000</td>\n",
       "      <td>79.00000</td>\n",
       "      <td>2.00000</td>\n",
       "      <td>15.00000</td>\n",
       "      <td>1.00000</td>\n",
       "      <td>1.00000</td>\n",
       "    </tr>\n",
       "    <tr>\n",
       "      <th>75%</th>\n",
       "      <td>58638.00000</td>\n",
       "      <td>15000.00000</td>\n",
       "      <td>38366.25000</td>\n",
       "      <td>443.00000</td>\n",
       "      <td>752.25000</td>\n",
       "      <td>210.00000</td>\n",
       "      <td>449.00000</td>\n",
       "      <td>6.00000</td>\n",
       "      <td>30.00000</td>\n",
       "      <td>3.00000</td>\n",
       "      <td>2.00000</td>\n",
       "    </tr>\n",
       "    <tr>\n",
       "      <th>max</th>\n",
       "      <td>65534.00000</td>\n",
       "      <td>65535.00000</td>\n",
       "      <td>65535.00000</td>\n",
       "      <td>65535.00000</td>\n",
       "      <td>1269359015.00000</td>\n",
       "      <td>948477220.00000</td>\n",
       "      <td>320881795.00000</td>\n",
       "      <td>1036116.00000</td>\n",
       "      <td>10824.00000</td>\n",
       "      <td>747520.00000</td>\n",
       "      <td>327208.00000</td>\n",
       "    </tr>\n",
       "  </tbody>\n",
       "</table>\n",
       "</div>"
      ],
      "text/plain": [
       "       Source Port Destination Port NAT Source Port NAT Destination Port  \\\n",
       "count  65532.00000      65532.00000     65532.00000          65532.00000   \n",
       "mean   49391.96934      10577.38581     19282.97276           2671.04993   \n",
       "std    15255.71254      18466.02704     21970.68967           9739.16228   \n",
       "min        0.00000          0.00000         0.00000              0.00000   \n",
       "25%    49183.00000         80.00000         0.00000              0.00000   \n",
       "50%    53776.50000        445.00000      8820.50000             53.00000   \n",
       "75%    58638.00000      15000.00000     38366.25000            443.00000   \n",
       "max    65534.00000      65535.00000     65535.00000          65535.00000   \n",
       "\n",
       "                  Bytes       Bytes Sent   Bytes Received        Packets  \\\n",
       "count       65532.00000      65532.00000      65532.00000    65532.00000   \n",
       "mean        97123.95009      22385.79691      74738.15318      102.86603   \n",
       "std       5618438.90905    3828138.64979    2463207.71188     5133.00235   \n",
       "min            60.00000         60.00000          0.00000        1.00000   \n",
       "25%            66.00000         66.00000          0.00000        1.00000   \n",
       "50%           168.00000         90.00000         79.00000        2.00000   \n",
       "75%           752.25000        210.00000        449.00000        6.00000   \n",
       "max    1269359015.00000  948477220.00000  320881795.00000  1036116.00000   \n",
       "\n",
       "      Elapsed Time (sec)     pkts_sent pkts_received  \n",
       "count        65532.00000   65532.00000   65532.00000  \n",
       "mean            65.83358      41.39953      61.46650  \n",
       "std            302.46176    3218.87129    2223.33227  \n",
       "min              0.00000       1.00000       0.00000  \n",
       "25%              0.00000       1.00000       0.00000  \n",
       "50%             15.00000       1.00000       1.00000  \n",
       "75%             30.00000       3.00000       2.00000  \n",
       "max          10824.00000  747520.00000  327208.00000  "
      ]
     },
     "execution_count": 61,
     "metadata": {},
     "output_type": "execute_result"
    }
   ],
   "source": [
    "#load data\n",
    "df = pd.read_csv('log2.csv')\n",
    "df = df.round(5)\n",
    "df.info()\n",
    "df.describe().apply(lambda s: s.apply('{0:.5f}'.format)) # will get summary of continuous or the nominals non-scientific"
   ]
  },
  {
   "cell_type": "code",
   "execution_count": 62,
   "id": "32789a5d",
   "metadata": {},
   "outputs": [
    {
     "data": {
      "text/html": [
       "<div>\n",
       "<style scoped>\n",
       "    .dataframe tbody tr th:only-of-type {\n",
       "        vertical-align: middle;\n",
       "    }\n",
       "\n",
       "    .dataframe tbody tr th {\n",
       "        vertical-align: top;\n",
       "    }\n",
       "\n",
       "    .dataframe thead th {\n",
       "        text-align: right;\n",
       "    }\n",
       "</style>\n",
       "<table border=\"1\" class=\"dataframe\">\n",
       "  <thead>\n",
       "    <tr style=\"text-align: right;\">\n",
       "      <th></th>\n",
       "      <th>column_name</th>\n",
       "      <th>percent_missing</th>\n",
       "    </tr>\n",
       "  </thead>\n",
       "  <tbody>\n",
       "    <tr>\n",
       "      <th>Source Port</th>\n",
       "      <td>Source Port</td>\n",
       "      <td>0.0</td>\n",
       "    </tr>\n",
       "    <tr>\n",
       "      <th>Destination Port</th>\n",
       "      <td>Destination Port</td>\n",
       "      <td>0.0</td>\n",
       "    </tr>\n",
       "    <tr>\n",
       "      <th>NAT Source Port</th>\n",
       "      <td>NAT Source Port</td>\n",
       "      <td>0.0</td>\n",
       "    </tr>\n",
       "    <tr>\n",
       "      <th>NAT Destination Port</th>\n",
       "      <td>NAT Destination Port</td>\n",
       "      <td>0.0</td>\n",
       "    </tr>\n",
       "    <tr>\n",
       "      <th>Action</th>\n",
       "      <td>Action</td>\n",
       "      <td>0.0</td>\n",
       "    </tr>\n",
       "    <tr>\n",
       "      <th>Bytes</th>\n",
       "      <td>Bytes</td>\n",
       "      <td>0.0</td>\n",
       "    </tr>\n",
       "    <tr>\n",
       "      <th>Bytes Sent</th>\n",
       "      <td>Bytes Sent</td>\n",
       "      <td>0.0</td>\n",
       "    </tr>\n",
       "    <tr>\n",
       "      <th>Bytes Received</th>\n",
       "      <td>Bytes Received</td>\n",
       "      <td>0.0</td>\n",
       "    </tr>\n",
       "    <tr>\n",
       "      <th>Packets</th>\n",
       "      <td>Packets</td>\n",
       "      <td>0.0</td>\n",
       "    </tr>\n",
       "    <tr>\n",
       "      <th>Elapsed Time (sec)</th>\n",
       "      <td>Elapsed Time (sec)</td>\n",
       "      <td>0.0</td>\n",
       "    </tr>\n",
       "    <tr>\n",
       "      <th>pkts_sent</th>\n",
       "      <td>pkts_sent</td>\n",
       "      <td>0.0</td>\n",
       "    </tr>\n",
       "    <tr>\n",
       "      <th>pkts_received</th>\n",
       "      <td>pkts_received</td>\n",
       "      <td>0.0</td>\n",
       "    </tr>\n",
       "  </tbody>\n",
       "</table>\n",
       "</div>"
      ],
      "text/plain": [
       "                               column_name  percent_missing\n",
       "Source Port                    Source Port              0.0\n",
       "Destination Port          Destination Port              0.0\n",
       "NAT Source Port            NAT Source Port              0.0\n",
       "NAT Destination Port  NAT Destination Port              0.0\n",
       "Action                              Action              0.0\n",
       "Bytes                                Bytes              0.0\n",
       "Bytes Sent                      Bytes Sent              0.0\n",
       "Bytes Received              Bytes Received              0.0\n",
       "Packets                            Packets              0.0\n",
       "Elapsed Time (sec)      Elapsed Time (sec)              0.0\n",
       "pkts_sent                        pkts_sent              0.0\n",
       "pkts_received                pkts_received              0.0"
      ]
     },
     "execution_count": 62,
     "metadata": {},
     "output_type": "execute_result"
    }
   ],
   "source": [
    "## Visualize missingness \n",
    "#Check out the data, start to make some decisions on columns and missing data\n",
    "\n",
    "#Compute percentages of each columns missing data\n",
    "percent_missing = df.isnull().sum() * 100 / len(df)\n",
    "#Put percents into df \n",
    "missing_value_df = pd.DataFrame({'column_name': df.columns,\n",
    "                                 'percent_missing': percent_missing})\n",
    "#Sort it and show the results\n",
    "missing_value_df.sort_values('percent_missing', inplace=True)\n",
    "missing_value_df"
   ]
  },
  {
   "cell_type": "code",
   "execution_count": 63,
   "id": "749d12bc",
   "metadata": {},
   "outputs": [
    {
     "data": {
      "image/png": "[encoded data removed]",
      "text/plain": [
       "<Figure size 432x288 with 1 Axes>"
      ]
     },
     "metadata": {
      "needs_background": "light"
     },
     "output_type": "display_data"
    }
   ],
   "source": [
    "# Create bar chart of missing data percentages\n",
    "plt.barh(missing_value_df['column_name'], missing_value_df['percent_missing'])\n",
    "\n",
    "# Add labels and title\n",
    "plt.xlabel('Percent Missing')\n",
    "plt.title('Percentage of Missing Data by Column')\n",
    "\n",
    "# Display the graph\n",
    "plt.show()"
   ]
  },
  {
   "cell_type": "code",
   "execution_count": 64,
   "id": "5cb5da3a",
   "metadata": {},
   "outputs": [],
   "source": [
    "## no missing data. Good"
   ]
  },
  {
   "cell_type": "code",
   "execution_count": 65,
   "id": "65d00b48",
   "metadata": {},
   "outputs": [
    {
     "data": {
      "image/png": "[encoded data removed]",
      "text/plain": [
       "<Figure size 432x288 with 1 Axes>"
      ]
     },
     "metadata": {
      "needs_background": "light"
     },
     "output_type": "display_data"
    }
   ],
   "source": [
    "## the response variable is action graph to look at our actions\n",
    "plt.hist(df['Action'])\n",
    "plt.xlabel('Action')\n",
    "plt.ylabel('Frequency')\n",
    "plt.title('Histogram of Action')\n",
    "plt.show()"
   ]
  },
  {
   "cell_type": "code",
   "execution_count": 66,
   "id": "693dc1cb",
   "metadata": {},
   "outputs": [
    {
     "data": {
      "text/plain": [
       "allow         37640\n",
       "deny          14987\n",
       "drop          12851\n",
       "reset-both       54\n",
       "Name: Action, dtype: int64"
      ]
     },
     "execution_count": 66,
     "metadata": {},
     "output_type": "execute_result"
    }
   ],
   "source": [
    "df['Action'].value_counts(normalize=False)\n"
   ]
  },
  {
   "cell_type": "code",
   "execution_count": 67,
   "id": "f43ec47a",
   "metadata": {},
   "outputs": [],
   "source": [
    "target_mod = {\n",
    "    'allow':'allow',\n",
    "    'deny':'deny',\n",
    "    'drop':'deny',\n",
    "    'reset-both':'deny'\n",
    "}\n",
    "\n",
    "df.loc[df['Action'].isin(target_mod.keys()), 'Action_Revision'] = df['Action'].map(target_mod)\n",
    "df.drop('Action', axis=1, inplace=True)\n",
    "df['Action_Revision'] = df['Action_Revision'].astype('category')\n"
   ]
  },
  {
   "cell_type": "code",
   "execution_count": 68,
   "id": "60305347",
   "metadata": {},
   "outputs": [
    {
     "data": {
      "text/plain": [
       "allow    37640\n",
       "deny     27892\n",
       "Name: Action_Revision, dtype: int64"
      ]
     },
     "execution_count": 68,
     "metadata": {},
     "output_type": "execute_result"
    }
   ],
   "source": [
    "df['Action_Revision'].value_counts(normalize=False)\n"
   ]
  },
  {
   "cell_type": "code",
   "execution_count": 69,
   "id": "417961ef",
   "metadata": {},
   "outputs": [
    {
     "data": {
      "image/png": "[encoded data removed]",
      "text/plain": [
       "<Figure size 432x288 with 1 Axes>"
      ]
     },
     "metadata": {
      "needs_background": "light"
     },
     "output_type": "display_data"
    }
   ],
   "source": [
    "## the response variable is action graph to look at our actions\n",
    "plt.hist(df['Action_Revision'])\n",
    "plt.xlabel('Action')\n",
    "plt.ylabel('Frequency')\n",
    "plt.title('Traffic Allowed or Denied')\n",
    "plt.show()"
   ]
  },
  {
   "cell_type": "markdown",
   "id": "565095b5",
   "metadata": {},
   "source": [
    "We have two values in our response variable now. This will aid us with accuracy and the algorithims will only have to differentiate between two calues. We can beat overfitting this way. "
   ]
  },
  {
   "cell_type": "code",
   "execution_count": 70,
   "id": "b1755f3c",
   "metadata": {},
   "outputs": [
    {
     "name": "stdout",
     "output_type": "stream",
     "text": [
      "       Source Port  Destination Port  NAT Source Port  NAT Destination Port  \\\n",
      "0            57222                53            54587                    53   \n",
      "1            56258              3389            56258                  3389   \n",
      "2             6881             50321            43265                 50321   \n",
      "3            50553              3389            50553                  3389   \n",
      "4            50002               443            45848                   443   \n",
      "...            ...               ...              ...                   ...   \n",
      "65527        63691                80            13237                    80   \n",
      "65528        50964                80            13485                    80   \n",
      "65529        54871               445                0                     0   \n",
      "65530        54870               445                0                     0   \n",
      "65531        54867               445                0                     0   \n",
      "\n",
      "         Bytes  Bytes Sent  Bytes Received  Packets  Elapsed Time (sec)  \\\n",
      "0          177          94              83        2                  30   \n",
      "1         4768        1600            3168       19                  17   \n",
      "2          238         118             120        2                1199   \n",
      "3         3327        1438            1889       15                  17   \n",
      "4        25358        6778           18580       31                  16   \n",
      "...        ...         ...             ...      ...                 ...   \n",
      "65527      314         192             122        6                  15   \n",
      "65528  4680740       67312         4613428     4675                  77   \n",
      "65529       70          70               0        1                   0   \n",
      "65530       70          70               0        1                   0   \n",
      "65531       70          70               0        1                   0   \n",
      "\n",
      "       pkts_sent  pkts_received Action_Revision  \n",
      "0              1              1           allow  \n",
      "1             10              9           allow  \n",
      "2              1              1           allow  \n",
      "3              8              7           allow  \n",
      "4             13             18           allow  \n",
      "...          ...            ...             ...  \n",
      "65527          4              2           allow  \n",
      "65528        985           3690           allow  \n",
      "65529          1              0            deny  \n",
      "65530          1              0            deny  \n",
      "65531          1              0            deny  \n",
      "\n",
      "[65532 rows x 12 columns]\n"
     ]
    }
   ],
   "source": [
    "print(df)"
   ]
  },
  {
   "cell_type": "code",
   "execution_count": null,
   "id": "8f59c969",
   "metadata": {},
   "outputs": [],
   "source": []
  }
 ],
 "metadata": {
  "kernelspec": {
   "display_name": "Python 3 (ipykernel)",
   "language": "python",
   "name": "python3"
  },
  "language_info": {
   "codemirror_mode": {
    "name": "ipython",
    "version": 3
   },
   "file_extension": ".py",
   "mimetype": "text/x-python",
   "name": "python",
   "nbconvert_exporter": "python",
   "pygments_lexer": "ipython3",
   "version": "3.8.13"
  }
 },
 "nbformat": 4,
 "nbformat_minor": 5
}
