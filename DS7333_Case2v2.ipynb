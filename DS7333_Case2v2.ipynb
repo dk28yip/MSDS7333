{
 "cells": [
  {
   "cell_type": "markdown",
   "id": "c6368ddc",
   "metadata": {},
   "source": [
    "# DS7333 Case Study 2\n",
    "## Predicting Hospital Readmittance Utilizing Logistic Regression Models\n",
    "\n",
    "#### John Girard, Shijo Joseph, Douglas Yip"
   ]
  },
  {
   "cell_type": "markdown",
   "id": "9b322b5b",
   "metadata": {},
   "source": [
    "Installing and setting up flake8 "
   ]
  },
  {
   "cell_type": "code",
   "execution_count": null,
   "id": "5257ddc3",
   "metadata": {},
   "outputs": [],
   "source": [
    "# if you do not have flake8 installed\n",
    "# then uncomment the pip line below and run it.\n",
    "\n",
    "# pip install flake8 pycodestyle_magic"
   ]
  },
  {
   "cell_type": "code",
   "execution_count": null,
   "id": "18157e8e",
   "metadata": {},
   "outputs": [],
   "source": [
    "#%load_ext pycodestyle_magic\n",
    "#%pycodestyle_on"
   ]
  },
  {
   "cell_type": "markdown",
   "id": "607dc214",
   "metadata": {},
   "source": [
    "#### Objective\n",
    "\n",
    "Your case study is to build a classifier using logistic regression to predict hospital readmittance. There is missing data that must be imputed. Once again, discuss variable importances as part of your submission.."
   ]
  },
  {
   "cell_type": "code",
   "execution_count": 1,
   "id": "b6dbd376",
   "metadata": {},
   "outputs": [],
   "source": [
    "# Importing Libraries that will be used to\n",
    "# ingest data and complete our regression\n",
    "import pandas as pd\n",
    "import numpy as np\n",
    "import seaborn as sns\n",
    "import plotly.express as px\n",
    "import matplotlib.pyplot as plt\n",
    "from matplotlib.pyplot import figure\n",
    "from copy import deepcopy\n",
    "%matplotlib inline\n",
    "get_ipython().run_line_magic('matplotlib', 'inline')"
   ]
  },
  {
   "cell_type": "markdown",
   "id": "09519eee",
   "metadata": {},
   "source": [
    "## 1) Import data\n",
    "This process will ingest the data into dataframe"
   ]
  },
  {
   "cell_type": "code",
   "execution_count": 2,
   "id": "d8518e43",
   "metadata": {},
   "outputs": [],
   "source": [
    "# Import data\n",
    "path = 'https://raw.githubusercontent.com/dk28yip/MSDS7333/main/'\n",
    "diabetic_f = path + 'diabetic_data.csv'\n",
    "df = pd.read_csv(diabetic_f)"
   ]
  },
  {
   "cell_type": "code",
   "execution_count": 3,
   "id": "660d7c45",
   "metadata": {},
   "outputs": [
    {
     "data": {
      "text/plain": [
       "(101766, 50)"
      ]
     },
     "execution_count": 3,
     "metadata": {},
     "output_type": "execute_result"
    }
   ],
   "source": [
    "# Examine the shape of the data\n",
    "df.shape"
   ]
  },
  {
   "cell_type": "markdown",
   "id": "a7d6cd61",
   "metadata": {},
   "source": [
    "Data contains 101,766 lines of data with 50 sets of variables."
   ]
  },
  {
   "cell_type": "code",
   "execution_count": 4,
   "id": "24029905",
   "metadata": {
    "scrolled": true
   },
   "outputs": [
    {
     "name": "stdout",
     "output_type": "stream",
     "text": [
      "<class 'pandas.core.frame.DataFrame'>\n",
      "RangeIndex: 101766 entries, 0 to 101765\n",
      "Data columns (total 50 columns):\n",
      " #   Column                    Non-Null Count   Dtype \n",
      "---  ------                    --------------   ----- \n",
      " 0   encounter_id              101766 non-null  int64 \n",
      " 1   patient_nbr               101766 non-null  int64 \n",
      " 2   race                      101766 non-null  object\n",
      " 3   gender                    101766 non-null  object\n",
      " 4   age                       101766 non-null  object\n",
      " 5   weight                    101766 non-null  object\n",
      " 6   admission_type_id         101766 non-null  int64 \n",
      " 7   discharge_disposition_id  101766 non-null  int64 \n",
      " 8   admission_source_id       101766 non-null  int64 \n",
      " 9   time_in_hospital          101766 non-null  int64 \n",
      " 10  payer_code                101766 non-null  object\n",
      " 11  medical_specialty         101766 non-null  object\n",
      " 12  num_lab_procedures        101766 non-null  int64 \n",
      " 13  num_procedures            101766 non-null  int64 \n",
      " 14  num_medications           101766 non-null  int64 \n",
      " 15  number_outpatient         101766 non-null  int64 \n",
      " 16  number_emergency          101766 non-null  int64 \n",
      " 17  number_inpatient          101766 non-null  int64 \n",
      " 18  diag_1                    101766 non-null  object\n",
      " 19  diag_2                    101766 non-null  object\n",
      " 20  diag_3                    101766 non-null  object\n",
      " 21  number_diagnoses          101766 non-null  int64 \n",
      " 22  max_glu_serum             101766 non-null  object\n",
      " 23  A1Cresult                 101766 non-null  object\n",
      " 24  metformin                 101766 non-null  object\n",
      " 25  repaglinide               101766 non-null  object\n",
      " 26  nateglinide               101766 non-null  object\n",
      " 27  chlorpropamide            101766 non-null  object\n",
      " 28  glimepiride               101766 non-null  object\n",
      " 29  acetohexamide             101766 non-null  object\n",
      " 30  glipizide                 101766 non-null  object\n",
      " 31  glyburide                 101766 non-null  object\n",
      " 32  tolbutamide               101766 non-null  object\n",
      " 33  pioglitazone              101766 non-null  object\n",
      " 34  rosiglitazone             101766 non-null  object\n",
      " 35  acarbose                  101766 non-null  object\n",
      " 36  miglitol                  101766 non-null  object\n",
      " 37  troglitazone              101766 non-null  object\n",
      " 38  tolazamide                101766 non-null  object\n",
      " 39  examide                   101766 non-null  object\n",
      " 40  citoglipton               101766 non-null  object\n",
      " 41  insulin                   101766 non-null  object\n",
      " 42  glyburide-metformin       101766 non-null  object\n",
      " 43  glipizide-metformin       101766 non-null  object\n",
      " 44  glimepiride-pioglitazone  101766 non-null  object\n",
      " 45  metformin-rosiglitazone   101766 non-null  object\n",
      " 46  metformin-pioglitazone    101766 non-null  object\n",
      " 47  change                    101766 non-null  object\n",
      " 48  diabetesMed               101766 non-null  object\n",
      " 49  readmitted                101766 non-null  object\n",
      "dtypes: int64(13), object(37)\n",
      "memory usage: 38.8+ MB\n"
     ]
    },
    {
     "data": {
      "text/html": [
       "<div>\n",
       "<style scoped>\n",
       "    .dataframe tbody tr th:only-of-type {\n",
       "        vertical-align: middle;\n",
       "    }\n",
       "\n",
       "    .dataframe tbody tr th {\n",
       "        vertical-align: top;\n",
       "    }\n",
       "\n",
       "    .dataframe thead th {\n",
       "        text-align: right;\n",
       "    }\n",
       "</style>\n",
       "<table border=\"1\" class=\"dataframe\">\n",
       "  <thead>\n",
       "    <tr style=\"text-align: right;\">\n",
       "      <th></th>\n",
       "      <th>encounter_id</th>\n",
       "      <th>patient_nbr</th>\n",
       "      <th>race</th>\n",
       "      <th>gender</th>\n",
       "      <th>age</th>\n",
       "      <th>weight</th>\n",
       "      <th>admission_type_id</th>\n",
       "      <th>discharge_disposition_id</th>\n",
       "      <th>admission_source_id</th>\n",
       "      <th>time_in_hospital</th>\n",
       "      <th>...</th>\n",
       "      <th>citoglipton</th>\n",
       "      <th>insulin</th>\n",
       "      <th>glyburide-metformin</th>\n",
       "      <th>glipizide-metformin</th>\n",
       "      <th>glimepiride-pioglitazone</th>\n",
       "      <th>metformin-rosiglitazone</th>\n",
       "      <th>metformin-pioglitazone</th>\n",
       "      <th>change</th>\n",
       "      <th>diabetesMed</th>\n",
       "      <th>readmitted</th>\n",
       "    </tr>\n",
       "  </thead>\n",
       "  <tbody>\n",
       "    <tr>\n",
       "      <th>0</th>\n",
       "      <td>2278392</td>\n",
       "      <td>8222157</td>\n",
       "      <td>Caucasian</td>\n",
       "      <td>Female</td>\n",
       "      <td>[0-10)</td>\n",
       "      <td>?</td>\n",
       "      <td>6</td>\n",
       "      <td>25</td>\n",
       "      <td>1</td>\n",
       "      <td>1</td>\n",
       "      <td>...</td>\n",
       "      <td>No</td>\n",
       "      <td>No</td>\n",
       "      <td>No</td>\n",
       "      <td>No</td>\n",
       "      <td>No</td>\n",
       "      <td>No</td>\n",
       "      <td>No</td>\n",
       "      <td>No</td>\n",
       "      <td>No</td>\n",
       "      <td>NO</td>\n",
       "    </tr>\n",
       "    <tr>\n",
       "      <th>1</th>\n",
       "      <td>149190</td>\n",
       "      <td>55629189</td>\n",
       "      <td>Caucasian</td>\n",
       "      <td>Female</td>\n",
       "      <td>[10-20)</td>\n",
       "      <td>?</td>\n",
       "      <td>1</td>\n",
       "      <td>1</td>\n",
       "      <td>7</td>\n",
       "      <td>3</td>\n",
       "      <td>...</td>\n",
       "      <td>No</td>\n",
       "      <td>Up</td>\n",
       "      <td>No</td>\n",
       "      <td>No</td>\n",
       "      <td>No</td>\n",
       "      <td>No</td>\n",
       "      <td>No</td>\n",
       "      <td>Ch</td>\n",
       "      <td>Yes</td>\n",
       "      <td>&gt;30</td>\n",
       "    </tr>\n",
       "    <tr>\n",
       "      <th>2</th>\n",
       "      <td>64410</td>\n",
       "      <td>86047875</td>\n",
       "      <td>AfricanAmerican</td>\n",
       "      <td>Female</td>\n",
       "      <td>[20-30)</td>\n",
       "      <td>?</td>\n",
       "      <td>1</td>\n",
       "      <td>1</td>\n",
       "      <td>7</td>\n",
       "      <td>2</td>\n",
       "      <td>...</td>\n",
       "      <td>No</td>\n",
       "      <td>No</td>\n",
       "      <td>No</td>\n",
       "      <td>No</td>\n",
       "      <td>No</td>\n",
       "      <td>No</td>\n",
       "      <td>No</td>\n",
       "      <td>No</td>\n",
       "      <td>Yes</td>\n",
       "      <td>NO</td>\n",
       "    </tr>\n",
       "    <tr>\n",
       "      <th>3</th>\n",
       "      <td>500364</td>\n",
       "      <td>82442376</td>\n",
       "      <td>Caucasian</td>\n",
       "      <td>Male</td>\n",
       "      <td>[30-40)</td>\n",
       "      <td>?</td>\n",
       "      <td>1</td>\n",
       "      <td>1</td>\n",
       "      <td>7</td>\n",
       "      <td>2</td>\n",
       "      <td>...</td>\n",
       "      <td>No</td>\n",
       "      <td>Up</td>\n",
       "      <td>No</td>\n",
       "      <td>No</td>\n",
       "      <td>No</td>\n",
       "      <td>No</td>\n",
       "      <td>No</td>\n",
       "      <td>Ch</td>\n",
       "      <td>Yes</td>\n",
       "      <td>NO</td>\n",
       "    </tr>\n",
       "    <tr>\n",
       "      <th>4</th>\n",
       "      <td>16680</td>\n",
       "      <td>42519267</td>\n",
       "      <td>Caucasian</td>\n",
       "      <td>Male</td>\n",
       "      <td>[40-50)</td>\n",
       "      <td>?</td>\n",
       "      <td>1</td>\n",
       "      <td>1</td>\n",
       "      <td>7</td>\n",
       "      <td>1</td>\n",
       "      <td>...</td>\n",
       "      <td>No</td>\n",
       "      <td>Steady</td>\n",
       "      <td>No</td>\n",
       "      <td>No</td>\n",
       "      <td>No</td>\n",
       "      <td>No</td>\n",
       "      <td>No</td>\n",
       "      <td>Ch</td>\n",
       "      <td>Yes</td>\n",
       "      <td>NO</td>\n",
       "    </tr>\n",
       "  </tbody>\n",
       "</table>\n",
       "<p>5 rows × 50 columns</p>\n",
       "</div>"
      ],
      "text/plain": [
       "   encounter_id  patient_nbr             race  gender      age weight  \\\n",
       "0       2278392      8222157        Caucasian  Female   [0-10)      ?   \n",
       "1        149190     55629189        Caucasian  Female  [10-20)      ?   \n",
       "2         64410     86047875  AfricanAmerican  Female  [20-30)      ?   \n",
       "3        500364     82442376        Caucasian    Male  [30-40)      ?   \n",
       "4         16680     42519267        Caucasian    Male  [40-50)      ?   \n",
       "\n",
       "   admission_type_id  discharge_disposition_id  admission_source_id  \\\n",
       "0                  6                        25                    1   \n",
       "1                  1                         1                    7   \n",
       "2                  1                         1                    7   \n",
       "3                  1                         1                    7   \n",
       "4                  1                         1                    7   \n",
       "\n",
       "   time_in_hospital  ... citoglipton insulin  glyburide-metformin  \\\n",
       "0                 1  ...          No      No                   No   \n",
       "1                 3  ...          No      Up                   No   \n",
       "2                 2  ...          No      No                   No   \n",
       "3                 2  ...          No      Up                   No   \n",
       "4                 1  ...          No  Steady                   No   \n",
       "\n",
       "   glipizide-metformin  glimepiride-pioglitazone  metformin-rosiglitazone  \\\n",
       "0                   No                        No                       No   \n",
       "1                   No                        No                       No   \n",
       "2                   No                        No                       No   \n",
       "3                   No                        No                       No   \n",
       "4                   No                        No                       No   \n",
       "\n",
       "   metformin-pioglitazone  change diabetesMed readmitted  \n",
       "0                      No      No          No         NO  \n",
       "1                      No      Ch         Yes        >30  \n",
       "2                      No      No         Yes         NO  \n",
       "3                      No      Ch         Yes         NO  \n",
       "4                      No      Ch         Yes         NO  \n",
       "\n",
       "[5 rows x 50 columns]"
      ]
     },
     "execution_count": 4,
     "metadata": {},
     "output_type": "execute_result"
    }
   ],
   "source": [
    "# check initial import dataframe\n",
    "df.info()\n",
    "df.head()"
   ]
  },
  {
   "cell_type": "code",
   "execution_count": 5,
   "id": "ddd8fe8e",
   "metadata": {},
   "outputs": [],
   "source": [
    "#ids as intgers are changed to string since the are identifyers\n",
    "# Convert variables from numeric into strings\n",
    "cols_convert = ['encounter_id', 'patient_nbr', 'admission_type_id', 'discharge_disposition_id', 'admission_source_id']\n",
    "df[cols_convert] = df[cols_convert].astype('str')"
   ]
  },
  {
   "cell_type": "code",
   "execution_count": 6,
   "id": "cc00455b",
   "metadata": {
    "scrolled": true
   },
   "outputs": [
    {
     "data": {
      "text/html": [
       "<div>\n",
       "<style scoped>\n",
       "    .dataframe tbody tr th:only-of-type {\n",
       "        vertical-align: middle;\n",
       "    }\n",
       "\n",
       "    .dataframe tbody tr th {\n",
       "        vertical-align: top;\n",
       "    }\n",
       "\n",
       "    .dataframe thead th {\n",
       "        text-align: right;\n",
       "    }\n",
       "</style>\n",
       "<table border=\"1\" class=\"dataframe\">\n",
       "  <thead>\n",
       "    <tr style=\"text-align: right;\">\n",
       "      <th></th>\n",
       "      <th>count</th>\n",
       "      <th>mean</th>\n",
       "      <th>std</th>\n",
       "      <th>min</th>\n",
       "      <th>25%</th>\n",
       "      <th>50%</th>\n",
       "      <th>75%</th>\n",
       "      <th>max</th>\n",
       "    </tr>\n",
       "  </thead>\n",
       "  <tbody>\n",
       "    <tr>\n",
       "      <th>time_in_hospital</th>\n",
       "      <td>101766.0</td>\n",
       "      <td>4.395987</td>\n",
       "      <td>2.985108</td>\n",
       "      <td>1.0</td>\n",
       "      <td>2.0</td>\n",
       "      <td>4.0</td>\n",
       "      <td>6.0</td>\n",
       "      <td>14.0</td>\n",
       "    </tr>\n",
       "    <tr>\n",
       "      <th>num_lab_procedures</th>\n",
       "      <td>101766.0</td>\n",
       "      <td>43.095641</td>\n",
       "      <td>19.674362</td>\n",
       "      <td>1.0</td>\n",
       "      <td>31.0</td>\n",
       "      <td>44.0</td>\n",
       "      <td>57.0</td>\n",
       "      <td>132.0</td>\n",
       "    </tr>\n",
       "    <tr>\n",
       "      <th>num_procedures</th>\n",
       "      <td>101766.0</td>\n",
       "      <td>1.339730</td>\n",
       "      <td>1.705807</td>\n",
       "      <td>0.0</td>\n",
       "      <td>0.0</td>\n",
       "      <td>1.0</td>\n",
       "      <td>2.0</td>\n",
       "      <td>6.0</td>\n",
       "    </tr>\n",
       "    <tr>\n",
       "      <th>num_medications</th>\n",
       "      <td>101766.0</td>\n",
       "      <td>16.021844</td>\n",
       "      <td>8.127566</td>\n",
       "      <td>1.0</td>\n",
       "      <td>10.0</td>\n",
       "      <td>15.0</td>\n",
       "      <td>20.0</td>\n",
       "      <td>81.0</td>\n",
       "    </tr>\n",
       "    <tr>\n",
       "      <th>number_outpatient</th>\n",
       "      <td>101766.0</td>\n",
       "      <td>0.369357</td>\n",
       "      <td>1.267265</td>\n",
       "      <td>0.0</td>\n",
       "      <td>0.0</td>\n",
       "      <td>0.0</td>\n",
       "      <td>0.0</td>\n",
       "      <td>42.0</td>\n",
       "    </tr>\n",
       "    <tr>\n",
       "      <th>number_emergency</th>\n",
       "      <td>101766.0</td>\n",
       "      <td>0.197836</td>\n",
       "      <td>0.930472</td>\n",
       "      <td>0.0</td>\n",
       "      <td>0.0</td>\n",
       "      <td>0.0</td>\n",
       "      <td>0.0</td>\n",
       "      <td>76.0</td>\n",
       "    </tr>\n",
       "    <tr>\n",
       "      <th>number_inpatient</th>\n",
       "      <td>101766.0</td>\n",
       "      <td>0.635566</td>\n",
       "      <td>1.262863</td>\n",
       "      <td>0.0</td>\n",
       "      <td>0.0</td>\n",
       "      <td>0.0</td>\n",
       "      <td>1.0</td>\n",
       "      <td>21.0</td>\n",
       "    </tr>\n",
       "    <tr>\n",
       "      <th>number_diagnoses</th>\n",
       "      <td>101766.0</td>\n",
       "      <td>7.422607</td>\n",
       "      <td>1.933600</td>\n",
       "      <td>1.0</td>\n",
       "      <td>6.0</td>\n",
       "      <td>8.0</td>\n",
       "      <td>9.0</td>\n",
       "      <td>16.0</td>\n",
       "    </tr>\n",
       "  </tbody>\n",
       "</table>\n",
       "</div>"
      ],
      "text/plain": [
       "                       count       mean        std  min   25%   50%   75%  \\\n",
       "time_in_hospital    101766.0   4.395987   2.985108  1.0   2.0   4.0   6.0   \n",
       "num_lab_procedures  101766.0  43.095641  19.674362  1.0  31.0  44.0  57.0   \n",
       "num_procedures      101766.0   1.339730   1.705807  0.0   0.0   1.0   2.0   \n",
       "num_medications     101766.0  16.021844   8.127566  1.0  10.0  15.0  20.0   \n",
       "number_outpatient   101766.0   0.369357   1.267265  0.0   0.0   0.0   0.0   \n",
       "number_emergency    101766.0   0.197836   0.930472  0.0   0.0   0.0   0.0   \n",
       "number_inpatient    101766.0   0.635566   1.262863  0.0   0.0   0.0   1.0   \n",
       "number_diagnoses    101766.0   7.422607   1.933600  1.0   6.0   8.0   9.0   \n",
       "\n",
       "                      max  \n",
       "time_in_hospital     14.0  \n",
       "num_lab_procedures  132.0  \n",
       "num_procedures        6.0  \n",
       "num_medications      81.0  \n",
       "number_outpatient    42.0  \n",
       "number_emergency     76.0  \n",
       "number_inpatient     21.0  \n",
       "number_diagnoses     16.0  "
      ]
     },
     "execution_count": 6,
     "metadata": {},
     "output_type": "execute_result"
    }
   ],
   "source": [
    "#Check the summary of statistics \n",
    "df.describe().T"
   ]
  },
  {
   "cell_type": "markdown",
   "id": "117d2043",
   "metadata": {},
   "source": [
    "## 2) Clean data\n",
    "This process will clean the data before proceeding to EDA"
   ]
  },
  {
   "cell_type": "markdown",
   "id": "34c47b7a",
   "metadata": {},
   "source": [
    "Reviewing the excel document there are columns that have \"?\" where python will read these as objects that are not null.\n",
    "We will need to remove the ?"
   ]
  },
  {
   "cell_type": "code",
   "execution_count": 7,
   "id": "3b7e4168",
   "metadata": {},
   "outputs": [],
   "source": [
    "#will replace ? with NAN\n",
    "imput_df = df.replace('?', np.nan)"
   ]
  },
  {
   "cell_type": "code",
   "execution_count": 8,
   "id": "970622e3",
   "metadata": {
    "scrolled": true
   },
   "outputs": [
    {
     "data": {
      "text/plain": [
       "encounter_id                    0\n",
       "patient_nbr                     0\n",
       "race                         2273\n",
       "gender                          0\n",
       "age                             0\n",
       "weight                      98569\n",
       "admission_type_id               0\n",
       "discharge_disposition_id        0\n",
       "admission_source_id             0\n",
       "time_in_hospital                0\n",
       "payer_code                  40256\n",
       "medical_specialty           49949\n",
       "num_lab_procedures              0\n",
       "num_procedures                  0\n",
       "num_medications                 0\n",
       "number_outpatient               0\n",
       "number_emergency                0\n",
       "number_inpatient                0\n",
       "diag_1                         21\n",
       "diag_2                        358\n",
       "diag_3                       1423\n",
       "number_diagnoses                0\n",
       "max_glu_serum                   0\n",
       "A1Cresult                       0\n",
       "metformin                       0\n",
       "repaglinide                     0\n",
       "nateglinide                     0\n",
       "chlorpropamide                  0\n",
       "glimepiride                     0\n",
       "acetohexamide                   0\n",
       "glipizide                       0\n",
       "glyburide                       0\n",
       "tolbutamide                     0\n",
       "pioglitazone                    0\n",
       "rosiglitazone                   0\n",
       "acarbose                        0\n",
       "miglitol                        0\n",
       "troglitazone                    0\n",
       "tolazamide                      0\n",
       "examide                         0\n",
       "citoglipton                     0\n",
       "insulin                         0\n",
       "glyburide-metformin             0\n",
       "glipizide-metformin             0\n",
       "glimepiride-pioglitazone        0\n",
       "metformin-rosiglitazone         0\n",
       "metformin-pioglitazone          0\n",
       "change                          0\n",
       "diabetesMed                     0\n",
       "readmitted                      0\n",
       "dtype: int64"
      ]
     },
     "execution_count": 8,
     "metadata": {},
     "output_type": "execute_result"
    }
   ],
   "source": [
    "#look at the isna after changing ? to NAN\n",
    "imput_df.isna().sum()"
   ]
  },
  {
   "cell_type": "code",
   "execution_count": 9,
   "id": "70d7c8a5",
   "metadata": {},
   "outputs": [
    {
     "data": {
      "text/plain": [
       "<function matplotlib.pyplot.show(close=None, block=None)>"
      ]
     },
     "execution_count": 9,
     "metadata": {},
     "output_type": "execute_result"
    },
    {
     "data": {
      "image/png": "[encoded data removed]",
      "text/plain": [
       "<Figure size 432x288 with 1 Axes>"
      ]
     },
     "metadata": {
      "needs_background": "light"
     },
     "output_type": "display_data"
    },
    {
     "data": {
      "text/plain": [
       "<Figure size 720x1800 with 0 Axes>"
      ]
     },
     "metadata": {},
     "output_type": "display_data"
    }
   ],
   "source": [
    "#create missing dataframe to build bar graph\n",
    "missing = imput_df.isna().sum()\n",
    "missing = pd.DataFrame(missing, columns = ['missing'])\n",
    "missing = missing[(missing.T !=0).any()]\n",
    "\n",
    "missing = missing.sort_values('missing', ascending=False)\n",
    "missing\n",
    "\n",
    "#create bar graph from missing data\n",
    "missing.plot(kind = 'bar', legend = False, color='green')\n",
    "# displaying the title\n",
    "plt.title(\"NAN by Category\", fontsize=18)\n",
    "#diplay labels\n",
    "plt.ylabel('NAN Count', fontsize=14)\n",
    "plt.xlabel('Categories', fontsize=14)\n",
    "plt.xticks(rotation='90')\n",
    "for index,data in enumerate(missing['missing']):\n",
    "    plt.text(x=index , y =data+2 , s=f\"{data}\" , fontdict=dict(fontsize=12), ha='center')\n",
    "plt.figure(figsize=(10, 25))\n",
    "plt.show"
   ]
  },
  {
   "cell_type": "markdown",
   "id": "e1bae595",
   "metadata": {},
   "source": [
    "## 3) Imputtation of data\n",
    "In this section we wil evaluate what to do with the the missing data for these columns;\n",
    "- __a.__ Weight\n",
    "- __b.__ Payer_code/medical_speciallty\n",
    "- __d.__ race\n",
    "- __e.__ diag_1, 2 and 3"
   ]
  },
  {
   "cell_type": "markdown",
   "id": "41c61b0e",
   "metadata": {},
   "source": [
    "#### 3a) Weight Imputtation\n",
    "We impute weight data by using age as an indicator. Given we have some domain knowledge and can research valid weight values within specific age ranges, we used that knowledge to substitute missing values with the weight range that has the highest frequency within that range."
   ]
  },
  {
   "cell_type": "code",
   "execution_count": 10,
   "id": "0aed5fcf",
   "metadata": {},
   "outputs": [
    {
     "data": {
      "text/plain": [
       "array([nan, '[75-100)', '[50-75)', '[0-25)', '[100-125)', '[25-50)',\n",
       "       '[125-150)', '[175-200)', '[150-175)', '>200'], dtype=object)"
      ]
     },
     "execution_count": 10,
     "metadata": {},
     "output_type": "execute_result"
    }
   ],
   "source": [
    "imput_df['weight'].unique()"
   ]
  },
  {
   "cell_type": "code",
   "execution_count": 11,
   "id": "b222a337",
   "metadata": {},
   "outputs": [],
   "source": [
    "imput_df1 = imput_df.loc[df['weight']=='nan', :]"
   ]
  },
  {
   "cell_type": "code",
   "execution_count": 12,
   "id": "c981d936",
   "metadata": {},
   "outputs": [
    {
     "data": {
      "text/plain": [
       "0"
      ]
     },
     "execution_count": 12,
     "metadata": {},
     "output_type": "execute_result"
    }
   ],
   "source": [
    "imput_df1.loc[imput_df['admission_source_id']==11].shape[0]\n"
   ]
  },
  {
   "cell_type": "code",
   "execution_count": 13,
   "id": "90b47616",
   "metadata": {},
   "outputs": [
    {
     "data": {
      "text/plain": [
       "[50-75)     59\n",
       "[75-100)    24\n",
       "[25-50)      9\n",
       "Name: weight, dtype: int64"
      ]
     },
     "execution_count": 13,
     "metadata": {},
     "output_type": "execute_result"
    }
   ],
   "source": [
    "imput_df.loc[(imput_df['age']=='[90-100)') & (imput_df['weight']!='nan'),'weight'].value_counts()\n"
   ]
  },
  {
   "cell_type": "code",
   "execution_count": 14,
   "id": "b278c31b",
   "metadata": {},
   "outputs": [],
   "source": [
    "imput_df.loc[(imput_df['age']=='[10-20)') & (imput_df['weight'].isna()),'weight']='[50-75)'\n",
    "\n",
    "imput_df.loc[(imput_df['age']=='[0-10)') & (imput_df['weight'].isna()),'weight']='[0-25)'\n",
    "\n",
    "imput_df.loc[(imput_df['age']=='[20-30)') & (imput_df['weight'].isna()),'weight']='[50-75)'\n",
    "\n",
    "imput_df.loc[(imput_df['age']=='[30-40)') & (imput_df['weight'].isna()),'weight']='[75-100)'\n",
    "\n",
    "imput_df.loc[(imput_df['age']=='[40-50)') & (imput_df['weight'].isna()),'weight']='[75-100)'\n",
    "\n",
    "imput_df.loc[(imput_df['age']=='[50-60)') & (imput_df['weight'].isna()),'weight']='[75-100)'\n",
    "\n",
    "imput_df.loc[(imput_df['age']=='[60-70)') & (imput_df['weight'].isna()),'weight']='[75-100)'\n",
    "\n",
    "imput_df.loc[(imput_df['age']=='[70-80)') & (imput_df['weight'].isna()),'weight']='[75-100)'\n",
    "\n",
    "imput_df.loc[(imput_df['age']=='[80-90)') & (imput_df['weight'].isna()),'weight']='[50-75)'\n",
    "\n",
    "imput_df.loc[(imput_df['age']=='[90-100)') & (imput_df['weight'].isna()),'weight']='[50-75)'"
   ]
  },
  {
   "cell_type": "code",
   "execution_count": 15,
   "id": "0562c66b",
   "metadata": {},
   "outputs": [
    {
     "data": {
      "text/plain": [
       "array(['[0-25)', '[50-75)', '[75-100)', '[100-125)', '[25-50)',\n",
       "       '[125-150)', '[175-200)', '[150-175)', '>200'], dtype=object)"
      ]
     },
     "execution_count": 15,
     "metadata": {},
     "output_type": "execute_result"
    }
   ],
   "source": [
    "#check if NAN is still there\n",
    "imput_df['weight'].unique()"
   ]
  },
  {
   "cell_type": "markdown",
   "id": "c78fbe4c",
   "metadata": {},
   "source": [
    "#### 3b) Payer_code/medical_speciallty\n",
    "Looking at Payer_code and medical_specialiaty we will look at how much data is missing."
   ]
  },
  {
   "cell_type": "code",
   "execution_count": 16,
   "id": "682f0629",
   "metadata": {
    "scrolled": false
   },
   "outputs": [
    {
     "data": {
      "text/plain": [
       "encounter_id                 0.000000\n",
       "patient_nbr                  0.000000\n",
       "race                         2.233555\n",
       "gender                       0.000000\n",
       "age                          0.000000\n",
       "weight                       0.000000\n",
       "admission_type_id            0.000000\n",
       "discharge_disposition_id     0.000000\n",
       "admission_source_id          0.000000\n",
       "time_in_hospital             0.000000\n",
       "payer_code                  39.557416\n",
       "medical_specialty           49.082208\n",
       "num_lab_procedures           0.000000\n",
       "num_procedures               0.000000\n",
       "num_medications              0.000000\n",
       "number_outpatient            0.000000\n",
       "number_emergency             0.000000\n",
       "number_inpatient             0.000000\n",
       "diag_1                       0.020636\n",
       "diag_2                       0.351787\n",
       "diag_3                       1.398306\n",
       "number_diagnoses             0.000000\n",
       "max_glu_serum                0.000000\n",
       "A1Cresult                    0.000000\n",
       "metformin                    0.000000\n",
       "repaglinide                  0.000000\n",
       "nateglinide                  0.000000\n",
       "chlorpropamide               0.000000\n",
       "glimepiride                  0.000000\n",
       "acetohexamide                0.000000\n",
       "glipizide                    0.000000\n",
       "glyburide                    0.000000\n",
       "tolbutamide                  0.000000\n",
       "pioglitazone                 0.000000\n",
       "rosiglitazone                0.000000\n",
       "acarbose                     0.000000\n",
       "miglitol                     0.000000\n",
       "troglitazone                 0.000000\n",
       "tolazamide                   0.000000\n",
       "examide                      0.000000\n",
       "citoglipton                  0.000000\n",
       "insulin                      0.000000\n",
       "glyburide-metformin          0.000000\n",
       "glipizide-metformin          0.000000\n",
       "glimepiride-pioglitazone     0.000000\n",
       "metformin-rosiglitazone      0.000000\n",
       "metformin-pioglitazone       0.000000\n",
       "change                       0.000000\n",
       "diabetesMed                  0.000000\n",
       "readmitted                   0.000000\n",
       "dtype: float64"
      ]
     },
     "execution_count": 16,
     "metadata": {},
     "output_type": "execute_result"
    }
   ],
   "source": [
    "imput_df.isnull().sum()/len(df)*100"
   ]
  },
  {
   "cell_type": "markdown",
   "id": "b9008afd",
   "metadata": {},
   "source": [
    "Given that we have no domanin knowledge and that >40% of the data for the two columns are missing, we will remove the columns for our model."
   ]
  },
  {
   "cell_type": "code",
   "execution_count": 17,
   "id": "e4ac9379",
   "metadata": {},
   "outputs": [],
   "source": [
    "# removing data columns where more than 30% of the data is missing.\n",
    "imput_df = imput_df.drop(['weight','payer_code','medical_specialty'], axis = 1)"
   ]
  },
  {
   "cell_type": "markdown",
   "id": "5d71f60c",
   "metadata": {},
   "source": [
    "#### 3c) Race Imputtation\n",
    "We impute weight data by using age as an indicator. We examine valid weight values within specific age ranges and substitute missing values with the weight range that has the highest frequency within that range."
   ]
  },
  {
   "cell_type": "code",
   "execution_count": 18,
   "id": "55d99eb0",
   "metadata": {},
   "outputs": [
    {
     "data": {
      "image/png": "[encoded data removed]",
      "text/plain": [
       "<Figure size 1008x576 with 1 Axes>"
      ]
     },
     "metadata": {
      "needs_background": "light"
     },
     "output_type": "display_data"
    }
   ],
   "source": [
    "#We will look at is the race column. \n",
    "race_graph = imput_df['race'].value_counts().plot(kind='bar',figsize=(14,8), color='green')\n",
    "# displaying the title\n",
    "plt.title(\"Race Count\", fontsize=18)\n",
    "#diplay labels\n",
    "plt.ylabel('Count', fontsize=14)\n",
    "plt.xlabel('Race', fontsize=14)\n",
    "#We will use the mode for the race column \n",
    "imput_df['race'] = imput_df['race'].fillna(imput_df['race'].mode()[0])"
   ]
  },
  {
   "cell_type": "markdown",
   "id": "04eefa9d",
   "metadata": {},
   "source": [
    "It stands to reason that older patients, over weight patients, and patients with chronic illness that spend more time in the hospital will have a more likely chance to be readmitted to the hospital."
   ]
  },
  {
   "cell_type": "markdown",
   "id": "83634215",
   "metadata": {},
   "source": [
    "#### 3c) Diag 1,2 and 3 Imputtation\n",
    "Given that we have <1.5% of examples without data, given its immateraility, we removed the rows that did not have values"
   ]
  },
  {
   "cell_type": "code",
   "execution_count": 19,
   "id": "d93740b3",
   "metadata": {},
   "outputs": [],
   "source": [
    "imput_df = imput_df.loc[~imput_df.diag_3.isna()]\n"
   ]
  },
  {
   "cell_type": "code",
   "execution_count": 20,
   "id": "7ebd7f46",
   "metadata": {},
   "outputs": [],
   "source": [
    "imput_df = imput_df.loc[~imput_df.diag_2.isna()]"
   ]
  },
  {
   "cell_type": "code",
   "execution_count": 21,
   "id": "1117f3b3",
   "metadata": {},
   "outputs": [],
   "source": [
    "imput_df = imput_df.loc[~imput_df.diag_1.isna()]"
   ]
  },
  {
   "cell_type": "markdown",
   "id": "6338426d",
   "metadata": {},
   "source": [
    "## 3) EDA - Look at ID mapping"
   ]
  },
  {
   "cell_type": "markdown",
   "id": "5bfcb4e5",
   "metadata": {},
   "source": [
    "One area that we observed was the discharged IDs.\n",
    "Give that 4 ids are related to death, the likelyhood of readmission is 0 and therefore we remove the row.\n",
    "###### Discharge IDs\n",
    "- __11)__ Expired\n",
    "- __20)__ Expired at home. Medicaid only, hospice.\n",
    "- __21)__ Expired in a medical facility. Medicaid only, hospice.\n",
    "- __22)__ Expired, place unknown. Medicaid only, hospice."
   ]
  },
  {
   "cell_type": "code",
   "execution_count": 22,
   "id": "39de78ed",
   "metadata": {},
   "outputs": [],
   "source": [
    "#Looking at the IDs_mapping.csv we can see that 11 - Expired ,19,20,21 are related to death or hospice. \n",
    "#These samples are removed from the predictive model.\n",
    "imput_df = imput_df.loc[~imput_df.discharge_disposition_id.isin([11,19,20,21])]"
   ]
  },
  {
   "cell_type": "code",
   "execution_count": 24,
   "id": "817c0079",
   "metadata": {},
   "outputs": [],
   "source": [
    "#remove unique identifiers\n",
    "imput_df = imput_df.drop(['encounter_id','patient_nbr'], axis=1)"
   ]
  },
  {
   "cell_type": "code",
   "execution_count": 23,
   "id": "3463f338",
   "metadata": {},
   "outputs": [
    {
     "data": {
      "text/plain": [
       "(100244, 47)"
      ]
     },
     "execution_count": 23,
     "metadata": {},
     "output_type": "execute_result"
    }
   ],
   "source": [
    "imput_df.shape"
   ]
  },
  {
   "cell_type": "markdown",
   "id": "8b4fe8c9",
   "metadata": {},
   "source": [
    "The number of records that were removed was 1,652 rows and 3 columns from the original data set."
   ]
  },
  {
   "cell_type": "markdown",
   "id": "6b181f1b",
   "metadata": {},
   "source": [
    "## 4) Model LDA\n",
    "This process will clean the data before proceeding to EDA"
   ]
  },
  {
   "cell_type": "code",
   "execution_count": 25,
   "id": "c93f92ba",
   "metadata": {},
   "outputs": [
    {
     "data": {
      "text/plain": [
       "1         2\n",
       "2         0\n",
       "3         0\n",
       "4         0\n",
       "5         2\n",
       "         ..\n",
       "101761    2\n",
       "101762    0\n",
       "101763    0\n",
       "101764    0\n",
       "101765    0\n",
       "Name: readmitted, Length: 100244, dtype: int64"
      ]
     },
     "execution_count": 25,
     "metadata": {},
     "output_type": "execute_result"
    }
   ],
   "source": [
    "#create the target dataframe\n",
    "y = imput_df['readmitted']\n",
    "\n",
    "#Change readmittance to numeric - ordinal and remove encounter id and patient number\n",
    "y = y.replace(to_replace='NO', value=0)\n",
    "y = y.replace(to_replace='<30', value=1)\n",
    "y = y.replace(to_replace='>30', value=2)\n",
    "\n",
    "y"
   ]
  },
  {
   "cell_type": "code",
   "execution_count": 26,
   "id": "caa82571",
   "metadata": {},
   "outputs": [],
   "source": [
    "#create df for hotcode less the y varaible\n",
    "imput_df_lessY = imput_df.drop('readmitted', axis=1)"
   ]
  },
  {
   "cell_type": "code",
   "execution_count": 27,
   "id": "22edd7ab",
   "metadata": {},
   "outputs": [
    {
     "data": {
      "text/plain": [
       "['race',\n",
       " 'gender',\n",
       " 'age',\n",
       " 'admission_type_id',\n",
       " 'discharge_disposition_id',\n",
       " 'admission_source_id',\n",
       " 'diag_1',\n",
       " 'diag_2',\n",
       " 'diag_3',\n",
       " 'max_glu_serum',\n",
       " 'A1Cresult',\n",
       " 'metformin',\n",
       " 'repaglinide',\n",
       " 'nateglinide',\n",
       " 'chlorpropamide',\n",
       " 'glimepiride',\n",
       " 'acetohexamide',\n",
       " 'glipizide',\n",
       " 'glyburide',\n",
       " 'tolbutamide',\n",
       " 'pioglitazone',\n",
       " 'rosiglitazone',\n",
       " 'acarbose',\n",
       " 'miglitol',\n",
       " 'troglitazone',\n",
       " 'tolazamide',\n",
       " 'examide',\n",
       " 'citoglipton',\n",
       " 'insulin',\n",
       " 'glyburide-metformin',\n",
       " 'glipizide-metformin',\n",
       " 'glimepiride-pioglitazone',\n",
       " 'metformin-rosiglitazone',\n",
       " 'metformin-pioglitazone',\n",
       " 'change',\n",
       " 'diabetesMed']"
      ]
     },
     "execution_count": 27,
     "metadata": {},
     "output_type": "execute_result"
    }
   ],
   "source": [
    "#One Hot Encode Categorical Variables\n",
    "#https://datagy.io/sklearn-one-hot-encode/\n",
    "#https://datascience.stackexchange.com/questions/71804/how-to-perform-one-hot-encoding-on-multiple-categorical-columns\n",
    "#list the caegorical columns less the Y variable\n",
    "categorical_cols = imput_df_lessY.select_dtypes(exclude=np.number).columns.tolist()\n",
    "categorical_cols"
   ]
  },
  {
   "cell_type": "code",
   "execution_count": 28,
   "id": "4faec102",
   "metadata": {},
   "outputs": [
    {
     "data": {
      "text/html": [
       "<div>\n",
       "<style scoped>\n",
       "    .dataframe tbody tr th:only-of-type {\n",
       "        vertical-align: middle;\n",
       "    }\n",
       "\n",
       "    .dataframe tbody tr th {\n",
       "        vertical-align: top;\n",
       "    }\n",
       "\n",
       "    .dataframe thead th {\n",
       "        text-align: right;\n",
       "    }\n",
       "</style>\n",
       "<table border=\"1\" class=\"dataframe\">\n",
       "  <thead>\n",
       "    <tr style=\"text-align: right;\">\n",
       "      <th></th>\n",
       "      <th>time_in_hospital</th>\n",
       "      <th>num_lab_procedures</th>\n",
       "      <th>num_procedures</th>\n",
       "      <th>num_medications</th>\n",
       "      <th>number_outpatient</th>\n",
       "      <th>number_emergency</th>\n",
       "      <th>number_inpatient</th>\n",
       "      <th>number_diagnoses</th>\n",
       "      <th>race_AfricanAmerican</th>\n",
       "      <th>race_Asian</th>\n",
       "      <th>...</th>\n",
       "      <th>glimepiride-pioglitazone_No</th>\n",
       "      <th>glimepiride-pioglitazone_Steady</th>\n",
       "      <th>metformin-rosiglitazone_No</th>\n",
       "      <th>metformin-rosiglitazone_Steady</th>\n",
       "      <th>metformin-pioglitazone_No</th>\n",
       "      <th>metformin-pioglitazone_Steady</th>\n",
       "      <th>change_Ch</th>\n",
       "      <th>change_No</th>\n",
       "      <th>diabetesMed_No</th>\n",
       "      <th>diabetesMed_Yes</th>\n",
       "    </tr>\n",
       "  </thead>\n",
       "  <tbody>\n",
       "    <tr>\n",
       "      <th>1</th>\n",
       "      <td>3</td>\n",
       "      <td>59</td>\n",
       "      <td>0</td>\n",
       "      <td>18</td>\n",
       "      <td>0</td>\n",
       "      <td>0</td>\n",
       "      <td>0</td>\n",
       "      <td>9</td>\n",
       "      <td>0</td>\n",
       "      <td>0</td>\n",
       "      <td>...</td>\n",
       "      <td>1</td>\n",
       "      <td>0</td>\n",
       "      <td>1</td>\n",
       "      <td>0</td>\n",
       "      <td>1</td>\n",
       "      <td>0</td>\n",
       "      <td>1</td>\n",
       "      <td>0</td>\n",
       "      <td>0</td>\n",
       "      <td>1</td>\n",
       "    </tr>\n",
       "    <tr>\n",
       "      <th>2</th>\n",
       "      <td>2</td>\n",
       "      <td>11</td>\n",
       "      <td>5</td>\n",
       "      <td>13</td>\n",
       "      <td>2</td>\n",
       "      <td>0</td>\n",
       "      <td>1</td>\n",
       "      <td>6</td>\n",
       "      <td>1</td>\n",
       "      <td>0</td>\n",
       "      <td>...</td>\n",
       "      <td>1</td>\n",
       "      <td>0</td>\n",
       "      <td>1</td>\n",
       "      <td>0</td>\n",
       "      <td>1</td>\n",
       "      <td>0</td>\n",
       "      <td>0</td>\n",
       "      <td>1</td>\n",
       "      <td>0</td>\n",
       "      <td>1</td>\n",
       "    </tr>\n",
       "    <tr>\n",
       "      <th>3</th>\n",
       "      <td>2</td>\n",
       "      <td>44</td>\n",
       "      <td>1</td>\n",
       "      <td>16</td>\n",
       "      <td>0</td>\n",
       "      <td>0</td>\n",
       "      <td>0</td>\n",
       "      <td>7</td>\n",
       "      <td>0</td>\n",
       "      <td>0</td>\n",
       "      <td>...</td>\n",
       "      <td>1</td>\n",
       "      <td>0</td>\n",
       "      <td>1</td>\n",
       "      <td>0</td>\n",
       "      <td>1</td>\n",
       "      <td>0</td>\n",
       "      <td>1</td>\n",
       "      <td>0</td>\n",
       "      <td>0</td>\n",
       "      <td>1</td>\n",
       "    </tr>\n",
       "    <tr>\n",
       "      <th>4</th>\n",
       "      <td>1</td>\n",
       "      <td>51</td>\n",
       "      <td>0</td>\n",
       "      <td>8</td>\n",
       "      <td>0</td>\n",
       "      <td>0</td>\n",
       "      <td>0</td>\n",
       "      <td>5</td>\n",
       "      <td>0</td>\n",
       "      <td>0</td>\n",
       "      <td>...</td>\n",
       "      <td>1</td>\n",
       "      <td>0</td>\n",
       "      <td>1</td>\n",
       "      <td>0</td>\n",
       "      <td>1</td>\n",
       "      <td>0</td>\n",
       "      <td>1</td>\n",
       "      <td>0</td>\n",
       "      <td>0</td>\n",
       "      <td>1</td>\n",
       "    </tr>\n",
       "    <tr>\n",
       "      <th>5</th>\n",
       "      <td>3</td>\n",
       "      <td>31</td>\n",
       "      <td>6</td>\n",
       "      <td>16</td>\n",
       "      <td>0</td>\n",
       "      <td>0</td>\n",
       "      <td>0</td>\n",
       "      <td>9</td>\n",
       "      <td>0</td>\n",
       "      <td>0</td>\n",
       "      <td>...</td>\n",
       "      <td>1</td>\n",
       "      <td>0</td>\n",
       "      <td>1</td>\n",
       "      <td>0</td>\n",
       "      <td>1</td>\n",
       "      <td>0</td>\n",
       "      <td>0</td>\n",
       "      <td>1</td>\n",
       "      <td>0</td>\n",
       "      <td>1</td>\n",
       "    </tr>\n",
       "  </tbody>\n",
       "</table>\n",
       "<p>5 rows × 2407 columns</p>\n",
       "</div>"
      ],
      "text/plain": [
       "   time_in_hospital  num_lab_procedures  num_procedures  num_medications  \\\n",
       "1                 3                  59               0               18   \n",
       "2                 2                  11               5               13   \n",
       "3                 2                  44               1               16   \n",
       "4                 1                  51               0                8   \n",
       "5                 3                  31               6               16   \n",
       "\n",
       "   number_outpatient  number_emergency  number_inpatient  number_diagnoses  \\\n",
       "1                  0                 0                 0                 9   \n",
       "2                  2                 0                 1                 6   \n",
       "3                  0                 0                 0                 7   \n",
       "4                  0                 0                 0                 5   \n",
       "5                  0                 0                 0                 9   \n",
       "\n",
       "   race_AfricanAmerican  race_Asian  ...  glimepiride-pioglitazone_No  \\\n",
       "1                     0           0  ...                            1   \n",
       "2                     1           0  ...                            1   \n",
       "3                     0           0  ...                            1   \n",
       "4                     0           0  ...                            1   \n",
       "5                     0           0  ...                            1   \n",
       "\n",
       "   glimepiride-pioglitazone_Steady  metformin-rosiglitazone_No  \\\n",
       "1                                0                           1   \n",
       "2                                0                           1   \n",
       "3                                0                           1   \n",
       "4                                0                           1   \n",
       "5                                0                           1   \n",
       "\n",
       "   metformin-rosiglitazone_Steady  metformin-pioglitazone_No  \\\n",
       "1                               0                          1   \n",
       "2                               0                          1   \n",
       "3                               0                          1   \n",
       "4                               0                          1   \n",
       "5                               0                          1   \n",
       "\n",
       "   metformin-pioglitazone_Steady  change_Ch  change_No  diabetesMed_No  \\\n",
       "1                              0          1          0               0   \n",
       "2                              0          0          1               0   \n",
       "3                              0          1          0               0   \n",
       "4                              0          1          0               0   \n",
       "5                              0          0          1               0   \n",
       "\n",
       "   diabetesMed_Yes  \n",
       "1                1  \n",
       "2                1  \n",
       "3                1  \n",
       "4                1  \n",
       "5                1  \n",
       "\n",
       "[5 rows x 2407 columns]"
      ]
     },
     "execution_count": 28,
     "metadata": {},
     "output_type": "execute_result"
    }
   ],
   "source": [
    "#create one hot code df and create a df_final to be used for the model\n",
    "X = pd.get_dummies(imput_df_lessY, columns = categorical_cols)\n",
    "X.head()"
   ]
  },
  {
   "cell_type": "code",
   "execution_count": null,
   "id": "e26c49d1",
   "metadata": {},
   "outputs": [],
   "source": [
    "#set the target y .. Then find the priors, % of being readmitted less than 30 days and greater than 30 days (grouping together) and no being opposite\n",
    "#remove the target from big dataset. \n",
    "\n",
    "#use cross validation technique with the priors in mind. \n",
    "#Use logistic regression. \n",
    "\n",
    "from sklearn.linear_model import LogisticRegression\n",
    "\n",
    "#Fit Model\n",
    "lr_model =  LogisticRegression(max_iter = 10000, random_state = 1)\n",
    "lr_model.fit(X, y)"
   ]
  },
  {
   "cell_type": "code",
   "execution_count": null,
   "id": "ed85882b",
   "metadata": {},
   "outputs": [],
   "source": [
    "#check accuracy with same data\n",
    "lr_model.score(X, y)"
   ]
  },
  {
   "cell_type": "code",
   "execution_count": null,
   "id": "a2df3954",
   "metadata": {},
   "outputs": [],
   "source": [
    "#find tune model and find the best regularization C for our model\n",
    "from sklearn.model_selection import cross_val_score\n",
    "from sklearn.model_selection import KFold\n",
    "\n",
    "splits = KFold(n_splits=5,shuffle=True)\n",
    "\n",
    "best = -1000\n",
    "alpha = np.logspace(0.1,1,10)\n",
    "for i in alpha:\n",
    "    lr_model.C = i\n",
    "    out = cross_val_score(lr_model,X, y,scoring = 'neg_mean_squared_error', cv = splits, n_jobs=5).mean()\n",
    "    if out > best:\n",
    "        best = out\n",
    "        best_alpha = i\n",
    "print('Best Alpha:', best_alpha)\n",
    "print('Best MSE:', best)"
   ]
  },
  {
   "cell_type": "code",
   "execution_count": null,
   "id": "7cdacb25",
   "metadata": {},
   "outputs": [],
   "source": [
    "#split data for training\n",
    "from sklearn.model_selection import train_test_split\n",
    "X_train, X_test, y_train, y_test = train_test_split(X, y, test_size = 0.2, shuffle=True, stratify=y,random_state=1)   "
   ]
  },
  {
   "cell_type": "code",
   "execution_count": null,
   "id": "ed5d0607",
   "metadata": {},
   "outputs": [],
   "source": [
    "#Create a model with the best hyper parameter for C and look at the accruacy\n",
    "best_lr = LogisticRegression(C =2.51 , max_iter = 10000, random_state = 1)\n",
    "pred_ncv = best_lr.fit(X_train, y_train) \n",
    "pred_ncv.score(X_test,y_test)"
   ]
  },
  {
   "cell_type": "code",
   "execution_count": null,
   "id": "c3bef082",
   "metadata": {},
   "outputs": [],
   "source": [
    "from sklearn.model_selection import cross_val_predict\n",
    "pred = cross_val_predict(best_lr,X_test,y_test, cv=5)"
   ]
  },
  {
   "cell_type": "markdown",
   "id": "c21d6037",
   "metadata": {},
   "source": [
    "### 4) Results from model\n",
    "Confusion matrix and fscore to evaluate model accruacy"
   ]
  },
  {
   "cell_type": "code",
   "execution_count": null,
   "id": "af8e8c35",
   "metadata": {},
   "outputs": [],
   "source": [
    "from sklearn.metrics import classification_report\n",
    "print(classification_report(y_test,pred, target_names=['No_Readmission', 'Readmission <30days', 'Readmission +30days']))"
   ]
  },
  {
   "cell_type": "code",
   "execution_count": null,
   "id": "e9999bbf",
   "metadata": {},
   "outputs": [],
   "source": [
    "from sklearn.metrics import confusion_matrix\n",
    "import seaborn as sns\n",
    "import matplotlib.pyplot as plt\n",
    "\n",
    "cm0 = confusion_matrix(y_test,pred)\n",
    "x_axis_labels = ['NO','<30', '>30']\n",
    "y_axis_labels = ['NO','<30', '>30']\n",
    "ax = plt.axes()\n",
    "sns.heatmap(cm0, cmap='Blues', annot=True, fmt='d',xticklabels=x_axis_labels,\n",
    "            yticklabels=y_axis_labels, ax=ax, cbar_kws={'label': 'Readmission Count',})\n",
    "ax.set_title('Hospital Readmission Confusion Matrix Heatmap')\n",
    "plt.xlabel(\"Predicted readmission\")\n",
    "plt.ylabel(\"True readmission\") \n",
    "plt.show"
   ]
  },
  {
   "cell_type": "code",
   "execution_count": null,
   "id": "fba2ff8d",
   "metadata": {},
   "outputs": [],
   "source": [
    "diab_LSR = pd.concat((X,y), axis=1)\n",
    "diab_LSR = pd.DataFrame(diab_LSR)\n",
    "diab_LSR.info(1)"
   ]
  },
  {
   "cell_type": "code",
   "execution_count": null,
   "id": "deb14bca",
   "metadata": {},
   "outputs": [],
   "source": [
    "#Feature Importance\n",
    "feature_names = diab_LSR.drop('readmitted', axis=1).copy().columns.values\n",
    "feature_importances = pd.DataFrame(pred_ncv.coef_[0],\n",
    "                                   index = feature_names,\n",
    "                                  columns=['importance']).sort_values('importance',\n",
    "                                                                        ascending=False)"
   ]
  },
  {
   "cell_type": "code",
   "execution_count": null,
   "id": "111f0240",
   "metadata": {},
   "outputs": [],
   "source": [
    "#Feature Importance plot\n",
    "num = 10\n",
    "ylocs = np.arange(num)\n",
    "# get the feature importance for top num and sort in reverse order\n",
    "values_to_plot = feature_importances.iloc[:num].values.ravel()[::-1]\n",
    "feature_labels = list(feature_importances.iloc[:num].index)[::-1]\n",
    "\n",
    "plt.figure(num=None, figsize=(8, 15), dpi=80, facecolor='w', edgecolor='k');\n",
    "plt.barh(ylocs, values_to_plot, align = 'center')\n",
    "plt.ylabel('Features', fontsize=20)\n",
    "plt.xlabel('Importance Score', fontsize=20)\n",
    "plt.title('Feature Importance Score - Readmission Classification, Logistic Regression', fontsize=20)\n",
    "plt.yticks(ylocs, feature_labels, fontsize=11)\n",
    "\n",
    "\n",
    "plt.show()"
   ]
  }
 ],
 "metadata": {
  "kernelspec": {
   "display_name": "Python 3 (ipykernel)",
   "language": "python",
   "name": "python3"
  },
  "language_info": {
   "codemirror_mode": {
    "name": "ipython",
    "version": 3
   },
   "file_extension": ".py",
   "mimetype": "text/x-python",
   "name": "python",
   "nbconvert_exporter": "python",
   "pygments_lexer": "ipython3",
   "version": "3.8.13"
  }
 },
 "nbformat": 4,
 "nbformat_minor": 5
}
