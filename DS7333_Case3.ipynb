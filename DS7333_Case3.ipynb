{
 "cells": [
  {
   "cell_type": "markdown",
   "id": "a0354002",
   "metadata": {},
   "source": [
    "# DS7333 Case Study \n",
    "##  Naive Bayes and Clustering\n",
    "\n",
    "#### John Girard, Shijo Joseph, Douglas Yip"
   ]
  },
  {
   "cell_type": "code",
   "execution_count": 100,
   "id": "1c7fc787",
   "metadata": {},
   "outputs": [
    {
     "name": "stdout",
     "output_type": "stream",
     "text": [
      "The pycodestyle_magic extension is already loaded. To reload it, use:\n",
      "  %reload_ext pycodestyle_magic\n"
     ]
    }
   ],
   "source": [
    "%load_ext pycodestyle_magic\n",
    "%pycodestyle_on"
   ]
  },
  {
   "cell_type": "code",
   "execution_count": 101,
   "id": "83abe01a",
   "metadata": {},
   "outputs": [],
   "source": [
    "import pandas as pd\n",
    "import numpy as np\n",
    "import matplotlib.pyplot as plt\n",
    "import os\n",
    "import email\n",
    "from bs4 import BeautifulSoup as BS4"
   ]
  },
  {
   "cell_type": "code",
   "execution_count": 102,
   "id": "4c9e0c1e",
   "metadata": {},
   "outputs": [
    {
     "data": {
      "text/plain": [
       "['easy_ham', 'easy_ham_2', 'hard_ham', 'spam', 'spam_2']"
      ]
     },
     "execution_count": 102,
     "metadata": {},
     "output_type": "execute_result"
    },
    {
     "name": "stderr",
     "output_type": "stream",
     "text": [
      "1:14: W605 invalid escape sequence '\\S'\n"
     ]
    }
   ],
   "source": [
    "os.listdir(\".\\SpamAssassinMessages\")"
   ]
  },
  {
   "cell_type": "code",
   "execution_count": 103,
   "id": "c621c957",
   "metadata": {},
   "outputs": [
    {
     "name": "stderr",
     "output_type": "stream",
     "text": [
      "8:36: W605 invalid escape sequence '\\S'\n"
     ]
    }
   ],
   "source": [
    "file_name = []\n",
    "contents = []\n",
    "types = []\n",
    "labels = []\n",
    "labelnames = []\n",
    "message = ''\n",
    "\n",
    "for root, dirs, files in os.walk(\".\\SpamAssassinMessages\"):\n",
    "    for name in files:\n",
    "        with open(os.path.join(root, name),\n",
    "                  'r', encoding='latin1') as f:\n",
    "            message = ''\n",
    "            try:\n",
    "                x = email.message_from_file(f)\n",
    "            except UnicodeDecodeError:\n",
    "                print(\"Error in file: Unknown Error\")\n",
    "            if \"multipart\" in x.get_content_type():\n",
    "                if x.is_multipart():\n",
    "                    for part in x.get_payload():\n",
    "                        message = message + part.as_string()\n",
    "                contents.append(message)\n",
    "            elif \"text/plain\" in x.get_content_type():\n",
    "                contents.append(x.get_payload()\n",
    "                                .replace(\"\\n\", \" \"))\n",
    "            elif \"text/html\" in x.get_content_type():\n",
    "                contents.append(BS4(x.get_payload()).get_text())\n",
    "            types.append(x.get_content_type())\n",
    "            if \"ham\" in root:\n",
    "                labelnames.append('ham')\n",
    "                labels.append(1)\n",
    "            elif \"spam\" in root:\n",
    "                labelnames.append('spam')\n",
    "                labels.append(0)\n",
    "            else:\n",
    "                print(\"YOU HAVE A BIG PROBLEM--LABEL NOT FOUND\")\n",
    "            file_name.append(os.path.join(root, name))"
   ]
  },
  {
   "cell_type": "code",
   "execution_count": 104,
   "id": "6c204450",
   "metadata": {},
   "outputs": [
    {
     "data": {
      "text/plain": [
       "text/plain                     7413\n",
       "text/html                      1193\n",
       "multipart/alternative           326\n",
       "multipart/signed                180\n",
       "multipart/mixed                 179\n",
       "multipart/related                56\n",
       "multipart/report                  5\n",
       "text/plain charset=us-ascii       1\n",
       "dtype: int64"
      ]
     },
     "execution_count": 104,
     "metadata": {},
     "output_type": "execute_result"
    }
   ],
   "source": [
    "types = pd.DataFrame(types)\n",
    "types.shape\n",
    "types.value_counts()"
   ]
  },
  {
   "cell_type": "code",
   "execution_count": 105,
   "id": "f30d4876",
   "metadata": {},
   "outputs": [],
   "source": [
    "df_NB = pd.DataFrame()\n",
    "df_NB['Filename'] = file_name\n",
    "df_NB['types'] = types\n",
    "df_NB['email_body'] = contents\n",
    "df_NB['labelnames'] = labelnames\n",
    "df_NB['labels'] = labels"
   ]
  },
  {
   "cell_type": "code",
   "execution_count": 106,
   "id": "fc226ab6",
   "metadata": {},
   "outputs": [
    {
     "data": {
      "text/html": [
       "<div>\n",
       "<style scoped>\n",
       "    .dataframe tbody tr th:only-of-type {\n",
       "        vertical-align: middle;\n",
       "    }\n",
       "\n",
       "    .dataframe tbody tr th {\n",
       "        vertical-align: top;\n",
       "    }\n",
       "\n",
       "    .dataframe thead th {\n",
       "        text-align: right;\n",
       "    }\n",
       "</style>\n",
       "<table border=\"1\" class=\"dataframe\">\n",
       "  <thead>\n",
       "    <tr style=\"text-align: right;\">\n",
       "      <th></th>\n",
       "      <th>Filename</th>\n",
       "      <th>types</th>\n",
       "      <th>email_body</th>\n",
       "      <th>labelnames</th>\n",
       "      <th>labels</th>\n",
       "    </tr>\n",
       "  </thead>\n",
       "  <tbody>\n",
       "    <tr>\n",
       "      <th>0</th>\n",
       "      <td>.\\SpamAssassinMessages\\easy_ham\\00001.7c53336b...</td>\n",
       "      <td>text/plain</td>\n",
       "      <td>Date:        Wed, 21 Aug 2002 10:54:46 -05...</td>\n",
       "      <td>ham</td>\n",
       "      <td>1</td>\n",
       "    </tr>\n",
       "    <tr>\n",
       "      <th>1</th>\n",
       "      <td>.\\SpamAssassinMessages\\easy_ham\\00002.9c4069e2...</td>\n",
       "      <td>text/plain</td>\n",
       "      <td>Martin A posted: Tassos Papadopoulos, the Gree...</td>\n",
       "      <td>ham</td>\n",
       "      <td>1</td>\n",
       "    </tr>\n",
       "    <tr>\n",
       "      <th>2</th>\n",
       "      <td>.\\SpamAssassinMessages\\easy_ham\\00003.860e3c3c...</td>\n",
       "      <td>text/plain</td>\n",
       "      <td>Man Threatens Explosion In Moscow   Thursday A...</td>\n",
       "      <td>ham</td>\n",
       "      <td>1</td>\n",
       "    </tr>\n",
       "    <tr>\n",
       "      <th>3</th>\n",
       "      <td>.\\SpamAssassinMessages\\easy_ham\\00004.864220c5...</td>\n",
       "      <td>text/plain</td>\n",
       "      <td>Klez: The Virus That Won't Die   Already the m...</td>\n",
       "      <td>ham</td>\n",
       "      <td>1</td>\n",
       "    </tr>\n",
       "    <tr>\n",
       "      <th>4</th>\n",
       "      <td>.\\SpamAssassinMessages\\easy_ham\\00005.bf27cdea...</td>\n",
       "      <td>text/plain</td>\n",
       "      <td>&gt;  in adding cream to spaghetti carbonara, whi...</td>\n",
       "      <td>ham</td>\n",
       "      <td>1</td>\n",
       "    </tr>\n",
       "    <tr>\n",
       "      <th>...</th>\n",
       "      <td>...</td>\n",
       "      <td>...</td>\n",
       "      <td>...</td>\n",
       "      <td>...</td>\n",
       "      <td>...</td>\n",
       "    </tr>\n",
       "    <tr>\n",
       "      <th>9348</th>\n",
       "      <td>.\\SpamAssassinMessages\\spam_2\\01397.f75f0dd0dd...</td>\n",
       "      <td>multipart/alternative</td>\n",
       "      <td>Content-Type: text/plain;\\n\\tcharset=\"Windows-...</td>\n",
       "      <td>spam</td>\n",
       "      <td>0</td>\n",
       "    </tr>\n",
       "    <tr>\n",
       "      <th>9349</th>\n",
       "      <td>.\\SpamAssassinMessages\\spam_2\\01398.8ca7045aae...</td>\n",
       "      <td>text/plain</td>\n",
       "      <td>Dear Subscriber,  If I could show you a way to...</td>\n",
       "      <td>spam</td>\n",
       "      <td>0</td>\n",
       "    </tr>\n",
       "    <tr>\n",
       "      <th>9350</th>\n",
       "      <td>.\\SpamAssassinMessages\\spam_2\\01399.2319643317...</td>\n",
       "      <td>text/plain</td>\n",
       "      <td>****Mid-Summer Customer Appreciation SALE!****...</td>\n",
       "      <td>spam</td>\n",
       "      <td>0</td>\n",
       "    </tr>\n",
       "    <tr>\n",
       "      <th>9351</th>\n",
       "      <td>.\\SpamAssassinMessages\\spam_2\\01400.b444b69845...</td>\n",
       "      <td>text/plain</td>\n",
       "      <td>ATTN:SIR/MADAN                              ST...</td>\n",
       "      <td>spam</td>\n",
       "      <td>0</td>\n",
       "    </tr>\n",
       "    <tr>\n",
       "      <th>9352</th>\n",
       "      <td>.\\SpamAssassinMessages\\spam_2\\cmds</td>\n",
       "      <td>text/plain</td>\n",
       "      <td>mv 00001.317e78fa8ee2f54cd4890fdc09ba8176 0000...</td>\n",
       "      <td>spam</td>\n",
       "      <td>0</td>\n",
       "    </tr>\n",
       "  </tbody>\n",
       "</table>\n",
       "<p>9353 rows × 5 columns</p>\n",
       "</div>"
      ],
      "text/plain": [
       "                                               Filename  \\\n",
       "0     .\\SpamAssassinMessages\\easy_ham\\00001.7c53336b...   \n",
       "1     .\\SpamAssassinMessages\\easy_ham\\00002.9c4069e2...   \n",
       "2     .\\SpamAssassinMessages\\easy_ham\\00003.860e3c3c...   \n",
       "3     .\\SpamAssassinMessages\\easy_ham\\00004.864220c5...   \n",
       "4     .\\SpamAssassinMessages\\easy_ham\\00005.bf27cdea...   \n",
       "...                                                 ...   \n",
       "9348  .\\SpamAssassinMessages\\spam_2\\01397.f75f0dd0dd...   \n",
       "9349  .\\SpamAssassinMessages\\spam_2\\01398.8ca7045aae...   \n",
       "9350  .\\SpamAssassinMessages\\spam_2\\01399.2319643317...   \n",
       "9351  .\\SpamAssassinMessages\\spam_2\\01400.b444b69845...   \n",
       "9352                 .\\SpamAssassinMessages\\spam_2\\cmds   \n",
       "\n",
       "                      types  \\\n",
       "0                text/plain   \n",
       "1                text/plain   \n",
       "2                text/plain   \n",
       "3                text/plain   \n",
       "4                text/plain   \n",
       "...                     ...   \n",
       "9348  multipart/alternative   \n",
       "9349             text/plain   \n",
       "9350             text/plain   \n",
       "9351             text/plain   \n",
       "9352             text/plain   \n",
       "\n",
       "                                             email_body labelnames  labels  \n",
       "0         Date:        Wed, 21 Aug 2002 10:54:46 -05...        ham       1  \n",
       "1     Martin A posted: Tassos Papadopoulos, the Gree...        ham       1  \n",
       "2     Man Threatens Explosion In Moscow   Thursday A...        ham       1  \n",
       "3     Klez: The Virus That Won't Die   Already the m...        ham       1  \n",
       "4     >  in adding cream to spaghetti carbonara, whi...        ham       1  \n",
       "...                                                 ...        ...     ...  \n",
       "9348  Content-Type: text/plain;\\n\\tcharset=\"Windows-...       spam       0  \n",
       "9349  Dear Subscriber,  If I could show you a way to...       spam       0  \n",
       "9350  ****Mid-Summer Customer Appreciation SALE!****...       spam       0  \n",
       "9351  ATTN:SIR/MADAN                              ST...       spam       0  \n",
       "9352  mv 00001.317e78fa8ee2f54cd4890fdc09ba8176 0000...       spam       0  \n",
       "\n",
       "[9353 rows x 5 columns]"
      ]
     },
     "execution_count": 106,
     "metadata": {},
     "output_type": "execute_result"
    }
   ],
   "source": [
    "df_NB"
   ]
  },
  {
   "cell_type": "markdown",
   "id": "c9033842",
   "metadata": {},
   "source": [
    "### Naive Bayes Portion\n",
    "\n",
    "##### Using Count Vectorizer"
   ]
  },
  {
   "cell_type": "code",
   "execution_count": 107,
   "id": "b735c285",
   "metadata": {},
   "outputs": [],
   "source": [
    "# Import Naive Bayes\n",
    "\n",
    "from sklearn.feature_extraction.text import CountVectorizer, TfidfVectorizer\n",
    "from sklearn.naive_bayes import MultinomialNB\n",
    "from sklearn.metrics import ConfusionMatrixDisplay, confusion_matrix\n",
    "from sklearn.metrics import classification_report\n",
    "from sklearn.model_selection import train_test_split"
   ]
  },
  {
   "cell_type": "code",
   "execution_count": 108,
   "id": "f3230f2c",
   "metadata": {},
   "outputs": [],
   "source": [
    "training_data, testing_data = \\\n",
    "    train_test_split(df_NB, test_size=0.2, random_state=25)\n",
    "\n",
    "print(f\"No. of training examples: {training_data.shape[0]}\")\n",
    "print(f\"No. of testing examples: {testing_data.shape[0]}\")"
   ]
  },
  {
   "cell_type": "code",
   "execution_count": 109,
   "id": "13b9eadc",
   "metadata": {},
   "outputs": [],
   "source": [
    "the_count = CountVectorizer()\n",
    "\n",
    "Xtrain = the_count.fit_transform(training_data['email_body'])"
   ]
  },
  {
   "cell_type": "code",
   "execution_count": 110,
   "id": "0851a576",
   "metadata": {},
   "outputs": [],
   "source": [
    "Xtrain = Xtrain.toarray()"
   ]
  },
  {
   "cell_type": "code",
   "execution_count": 111,
   "id": "d88917a9",
   "metadata": {},
   "outputs": [
    {
     "data": {
      "text/html": [
       "<style>#sk-container-id-4 {color: black;background-color: white;}#sk-container-id-4 pre{padding: 0;}#sk-container-id-4 div.sk-toggleable {background-color: white;}#sk-container-id-4 label.sk-toggleable__label {cursor: pointer;display: block;width: 100%;margin-bottom: 0;padding: 0.3em;box-sizing: border-box;text-align: center;}#sk-container-id-4 label.sk-toggleable__label-arrow:before {content: \"▸\";float: left;margin-right: 0.25em;color: #696969;}#sk-container-id-4 label.sk-toggleable__label-arrow:hover:before {color: black;}#sk-container-id-4 div.sk-estimator:hover label.sk-toggleable__label-arrow:before {color: black;}#sk-container-id-4 div.sk-toggleable__content {max-height: 0;max-width: 0;overflow: hidden;text-align: left;background-color: #f0f8ff;}#sk-container-id-4 div.sk-toggleable__content pre {margin: 0.2em;color: black;border-radius: 0.25em;background-color: #f0f8ff;}#sk-container-id-4 input.sk-toggleable__control:checked~div.sk-toggleable__content {max-height: 200px;max-width: 100%;overflow: auto;}#sk-container-id-4 input.sk-toggleable__control:checked~label.sk-toggleable__label-arrow:before {content: \"▾\";}#sk-container-id-4 div.sk-estimator input.sk-toggleable__control:checked~label.sk-toggleable__label {background-color: #d4ebff;}#sk-container-id-4 div.sk-label input.sk-toggleable__control:checked~label.sk-toggleable__label {background-color: #d4ebff;}#sk-container-id-4 input.sk-hidden--visually {border: 0;clip: rect(1px 1px 1px 1px);clip: rect(1px, 1px, 1px, 1px);height: 1px;margin: -1px;overflow: hidden;padding: 0;position: absolute;width: 1px;}#sk-container-id-4 div.sk-estimator {font-family: monospace;background-color: #f0f8ff;border: 1px dotted black;border-radius: 0.25em;box-sizing: border-box;margin-bottom: 0.5em;}#sk-container-id-4 div.sk-estimator:hover {background-color: #d4ebff;}#sk-container-id-4 div.sk-parallel-item::after {content: \"\";width: 100%;border-bottom: 1px solid gray;flex-grow: 1;}#sk-container-id-4 div.sk-label:hover label.sk-toggleable__label {background-color: #d4ebff;}#sk-container-id-4 div.sk-serial::before {content: \"\";position: absolute;border-left: 1px solid gray;box-sizing: border-box;top: 0;bottom: 0;left: 50%;z-index: 0;}#sk-container-id-4 div.sk-serial {display: flex;flex-direction: column;align-items: center;background-color: white;padding-right: 0.2em;padding-left: 0.2em;position: relative;}#sk-container-id-4 div.sk-item {position: relative;z-index: 1;}#sk-container-id-4 div.sk-parallel {display: flex;align-items: stretch;justify-content: center;background-color: white;position: relative;}#sk-container-id-4 div.sk-item::before, #sk-container-id-4 div.sk-parallel-item::before {content: \"\";position: absolute;border-left: 1px solid gray;box-sizing: border-box;top: 0;bottom: 0;left: 50%;z-index: -1;}#sk-container-id-4 div.sk-parallel-item {display: flex;flex-direction: column;z-index: 1;position: relative;background-color: white;}#sk-container-id-4 div.sk-parallel-item:first-child::after {align-self: flex-end;width: 50%;}#sk-container-id-4 div.sk-parallel-item:last-child::after {align-self: flex-start;width: 50%;}#sk-container-id-4 div.sk-parallel-item:only-child::after {width: 0;}#sk-container-id-4 div.sk-dashed-wrapped {border: 1px dashed gray;margin: 0 0.4em 0.5em 0.4em;box-sizing: border-box;padding-bottom: 0.4em;background-color: white;}#sk-container-id-4 div.sk-label label {font-family: monospace;font-weight: bold;display: inline-block;line-height: 1.2em;}#sk-container-id-4 div.sk-label-container {text-align: center;}#sk-container-id-4 div.sk-container {/* jupyter's `normalize.less` sets `[hidden] { display: none; }` but bootstrap.min.css set `[hidden] { display: none !important; }` so we also need the `!important` here to be able to override the default hidden behavior on the sphinx rendered scikit-learn.org. See: https://github.com/scikit-learn/scikit-learn/issues/21755 */display: inline-block !important;position: relative;}#sk-container-id-4 div.sk-text-repr-fallback {display: none;}</style><div id=\"sk-container-id-4\" class=\"sk-top-container\"><div class=\"sk-text-repr-fallback\"><pre>MultinomialNB()</pre><b>In a Jupyter environment, please rerun this cell to show the HTML representation or trust the notebook. <br />On GitHub, the HTML representation is unable to render, please try loading this page with nbviewer.org.</b></div><div class=\"sk-container\" hidden><div class=\"sk-item\"><div class=\"sk-estimator sk-toggleable\"><input class=\"sk-toggleable__control sk-hidden--visually\" id=\"sk-estimator-id-4\" type=\"checkbox\" checked><label for=\"sk-estimator-id-4\" class=\"sk-toggleable__label sk-toggleable__label-arrow\">MultinomialNB</label><div class=\"sk-toggleable__content\"><pre>MultinomialNB()</pre></div></div></div></div></div>"
      ],
      "text/plain": [
       "MultinomialNB()"
      ]
     },
     "execution_count": 111,
     "metadata": {},
     "output_type": "execute_result"
    }
   ],
   "source": [
    "# Fit Naive Bayes model\n",
    "nb = MultinomialNB()\n",
    "nb.fit(Xtrain, training_data['labels'])"
   ]
  },
  {
   "cell_type": "code",
   "execution_count": 112,
   "id": "61ab3f94",
   "metadata": {},
   "outputs": [],
   "source": [
    "Xtest = the_count.transform(testing_data['email_body'])\n",
    "preds = nb.predict(Xtest.toarray())"
   ]
  },
  {
   "cell_type": "code",
   "execution_count": 113,
   "id": "b48fbde3",
   "metadata": {},
   "outputs": [
    {
     "data": {
      "text/plain": [
       "(1871,)"
      ]
     },
     "execution_count": 113,
     "metadata": {},
     "output_type": "execute_result"
    }
   ],
   "source": [
    "preds.shape"
   ]
  },
  {
   "cell_type": "code",
   "execution_count": 114,
   "id": "0b28e388",
   "metadata": {},
   "outputs": [],
   "source": [
    "print(classification_report(testing_data['labels'], preds))"
   ]
  },
  {
   "cell_type": "code",
   "execution_count": 115,
   "id": "6bef8854",
   "metadata": {},
   "outputs": [],
   "source": [
    "# plot the confusion matrix\n",
    "\n",
    "cnf_matrix = confusion_matrix(testing_data['labels'], preds)\n",
    "\n",
    "print(cnf_matrix)"
   ]
  },
  {
   "cell_type": "markdown",
   "id": "ad1382a0",
   "metadata": {},
   "source": [
    "##### Using TF-IDF Vectorizor"
   ]
  },
  {
   "cell_type": "code",
   "execution_count": 116,
   "id": "1146ca8b",
   "metadata": {},
   "outputs": [],
   "source": [
    "tfidf = TfidfVectorizer()\n",
    "\n",
    "Xtrain = tfidf.fit_transform(training_data['email_body'])"
   ]
  },
  {
   "cell_type": "code",
   "execution_count": 117,
   "id": "2af31336",
   "metadata": {},
   "outputs": [],
   "source": [
    "Xtrain = Xtrain.toarray()"
   ]
  },
  {
   "cell_type": "code",
   "execution_count": 118,
   "id": "acd6f7fe",
   "metadata": {},
   "outputs": [
    {
     "data": {
      "text/html": [
       "<style>#sk-container-id-5 {color: black;background-color: white;}#sk-container-id-5 pre{padding: 0;}#sk-container-id-5 div.sk-toggleable {background-color: white;}#sk-container-id-5 label.sk-toggleable__label {cursor: pointer;display: block;width: 100%;margin-bottom: 0;padding: 0.3em;box-sizing: border-box;text-align: center;}#sk-container-id-5 label.sk-toggleable__label-arrow:before {content: \"▸\";float: left;margin-right: 0.25em;color: #696969;}#sk-container-id-5 label.sk-toggleable__label-arrow:hover:before {color: black;}#sk-container-id-5 div.sk-estimator:hover label.sk-toggleable__label-arrow:before {color: black;}#sk-container-id-5 div.sk-toggleable__content {max-height: 0;max-width: 0;overflow: hidden;text-align: left;background-color: #f0f8ff;}#sk-container-id-5 div.sk-toggleable__content pre {margin: 0.2em;color: black;border-radius: 0.25em;background-color: #f0f8ff;}#sk-container-id-5 input.sk-toggleable__control:checked~div.sk-toggleable__content {max-height: 200px;max-width: 100%;overflow: auto;}#sk-container-id-5 input.sk-toggleable__control:checked~label.sk-toggleable__label-arrow:before {content: \"▾\";}#sk-container-id-5 div.sk-estimator input.sk-toggleable__control:checked~label.sk-toggleable__label {background-color: #d4ebff;}#sk-container-id-5 div.sk-label input.sk-toggleable__control:checked~label.sk-toggleable__label {background-color: #d4ebff;}#sk-container-id-5 input.sk-hidden--visually {border: 0;clip: rect(1px 1px 1px 1px);clip: rect(1px, 1px, 1px, 1px);height: 1px;margin: -1px;overflow: hidden;padding: 0;position: absolute;width: 1px;}#sk-container-id-5 div.sk-estimator {font-family: monospace;background-color: #f0f8ff;border: 1px dotted black;border-radius: 0.25em;box-sizing: border-box;margin-bottom: 0.5em;}#sk-container-id-5 div.sk-estimator:hover {background-color: #d4ebff;}#sk-container-id-5 div.sk-parallel-item::after {content: \"\";width: 100%;border-bottom: 1px solid gray;flex-grow: 1;}#sk-container-id-5 div.sk-label:hover label.sk-toggleable__label {background-color: #d4ebff;}#sk-container-id-5 div.sk-serial::before {content: \"\";position: absolute;border-left: 1px solid gray;box-sizing: border-box;top: 0;bottom: 0;left: 50%;z-index: 0;}#sk-container-id-5 div.sk-serial {display: flex;flex-direction: column;align-items: center;background-color: white;padding-right: 0.2em;padding-left: 0.2em;position: relative;}#sk-container-id-5 div.sk-item {position: relative;z-index: 1;}#sk-container-id-5 div.sk-parallel {display: flex;align-items: stretch;justify-content: center;background-color: white;position: relative;}#sk-container-id-5 div.sk-item::before, #sk-container-id-5 div.sk-parallel-item::before {content: \"\";position: absolute;border-left: 1px solid gray;box-sizing: border-box;top: 0;bottom: 0;left: 50%;z-index: -1;}#sk-container-id-5 div.sk-parallel-item {display: flex;flex-direction: column;z-index: 1;position: relative;background-color: white;}#sk-container-id-5 div.sk-parallel-item:first-child::after {align-self: flex-end;width: 50%;}#sk-container-id-5 div.sk-parallel-item:last-child::after {align-self: flex-start;width: 50%;}#sk-container-id-5 div.sk-parallel-item:only-child::after {width: 0;}#sk-container-id-5 div.sk-dashed-wrapped {border: 1px dashed gray;margin: 0 0.4em 0.5em 0.4em;box-sizing: border-box;padding-bottom: 0.4em;background-color: white;}#sk-container-id-5 div.sk-label label {font-family: monospace;font-weight: bold;display: inline-block;line-height: 1.2em;}#sk-container-id-5 div.sk-label-container {text-align: center;}#sk-container-id-5 div.sk-container {/* jupyter's `normalize.less` sets `[hidden] { display: none; }` but bootstrap.min.css set `[hidden] { display: none !important; }` so we also need the `!important` here to be able to override the default hidden behavior on the sphinx rendered scikit-learn.org. See: https://github.com/scikit-learn/scikit-learn/issues/21755 */display: inline-block !important;position: relative;}#sk-container-id-5 div.sk-text-repr-fallback {display: none;}</style><div id=\"sk-container-id-5\" class=\"sk-top-container\"><div class=\"sk-text-repr-fallback\"><pre>MultinomialNB()</pre><b>In a Jupyter environment, please rerun this cell to show the HTML representation or trust the notebook. <br />On GitHub, the HTML representation is unable to render, please try loading this page with nbviewer.org.</b></div><div class=\"sk-container\" hidden><div class=\"sk-item\"><div class=\"sk-estimator sk-toggleable\"><input class=\"sk-toggleable__control sk-hidden--visually\" id=\"sk-estimator-id-5\" type=\"checkbox\" checked><label for=\"sk-estimator-id-5\" class=\"sk-toggleable__label sk-toggleable__label-arrow\">MultinomialNB</label><div class=\"sk-toggleable__content\"><pre>MultinomialNB()</pre></div></div></div></div></div>"
      ],
      "text/plain": [
       "MultinomialNB()"
      ]
     },
     "execution_count": 118,
     "metadata": {},
     "output_type": "execute_result"
    }
   ],
   "source": [
    "# Fit Naive Bayes model\n",
    "nb = MultinomialNB()\n",
    "nb.fit(Xtrain, training_data['labels'])"
   ]
  },
  {
   "cell_type": "code",
   "execution_count": 119,
   "id": "d615d633",
   "metadata": {},
   "outputs": [],
   "source": [
    "Xtest = tfidf.transform(testing_data['email_body'])\n",
    "preds = nb.predict(Xtest.toarray())"
   ]
  },
  {
   "cell_type": "code",
   "execution_count": 120,
   "id": "a8326ee3",
   "metadata": {},
   "outputs": [
    {
     "data": {
      "text/plain": [
       "(1871,)"
      ]
     },
     "execution_count": 120,
     "metadata": {},
     "output_type": "execute_result"
    }
   ],
   "source": [
    "preds.shape"
   ]
  },
  {
   "cell_type": "code",
   "execution_count": 121,
   "id": "dc119f34",
   "metadata": {},
   "outputs": [],
   "source": [
    "print(classification_report(testing_data['labels'], preds))"
   ]
  },
  {
   "cell_type": "code",
   "execution_count": 122,
   "id": "a801e742",
   "metadata": {},
   "outputs": [],
   "source": [
    "# plot the confusion matrix\n",
    "\n",
    "cnf_matrix = confusion_matrix(testing_data['labels'], preds)\n",
    "\n",
    "print(cnf_matrix)"
   ]
  },
  {
   "cell_type": "code",
   "execution_count": null,
   "id": "35a2f1b1",
   "metadata": {},
   "outputs": [],
   "source": []
  }
 ],
 "metadata": {
  "kernelspec": {
   "display_name": "QTW",
   "language": "python",
   "name": "qtw"
  },
  "language_info": {
   "codemirror_mode": {
    "name": "ipython",
    "version": 3
   },
   "file_extension": ".py",
   "mimetype": "text/x-python",
   "name": "python",
   "nbconvert_exporter": "python",
   "pygments_lexer": "ipython3",
   "version": "3.9.15"
  }
 },
 "nbformat": 4,
 "nbformat_minor": 5
}
