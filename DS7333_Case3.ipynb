{
 "cells": [
  {
   "cell_type": "markdown",
   "id": "a0354002",
   "metadata": {},
   "source": [
    "# DS7333 Case Study \n",
    "##  Naive Bayes and Clustering\n",
    "\n",
    "#### John Girard, Shijo Joseph, Douglas Yip"
   ]
  },
  {
   "cell_type": "code",
   "execution_count": 46,
   "id": "1c7fc787",
   "metadata": {},
   "outputs": [],
   "source": [
    "%load_ext pycodestyle_magic\n",
    "%pycodestyle_on"
   ]
  },
  {
   "cell_type": "code",
   "execution_count": 47,
   "id": "83abe01a",
   "metadata": {},
   "outputs": [],
   "source": [
    "import pandas as pd\n",
    "import numpy as np\n",
    "import matplotlib.pyplot as plt\n",
    "import os\n",
    "import email\n",
    "from bs4 import BeautifulSoup as BS4"
   ]
  },
  {
   "cell_type": "code",
   "execution_count": 48,
   "id": "32b6d7cc",
   "metadata": {},
   "outputs": [
    {
     "name": "stderr",
     "output_type": "stream",
     "text": [
      "3:43: W605 invalid escape sequence '\\S'\n"
     ]
    },
    {
     "name": "stdout",
     "output_type": "stream",
     "text": [
      "easy_ham 1000\n",
      "easy_ham_2 1000\n",
      "hard_ham 501\n",
      "spam 1000\n",
      "spam_2 1000\n",
      "file count: 4501\n"
     ]
    }
   ],
   "source": [
    "count = 0\n",
    "dir_count = 0\n",
    "for root_dir, cur_dir, files in os.walk(\".\\SpamAssassinMessages\"):\n",
    "    dir_count = len(files)\n",
    "    count += len(files)\n",
    "    for names in cur_dir:\n",
    "        print(names, len(os.listdir(os.path.join(root_dir, names))))\n",
    "print('file count:', count)"
   ]
  },
  {
   "cell_type": "code",
   "execution_count": 49,
   "id": "4c9e0c1e",
   "metadata": {},
   "outputs": [
    {
     "data": {
      "text/plain": [
       "['easy_ham', 'easy_ham_2', 'hard_ham', 'spam', 'spam_2']"
      ]
     },
     "execution_count": 49,
     "metadata": {},
     "output_type": "execute_result"
    },
    {
     "name": "stderr",
     "output_type": "stream",
     "text": [
      "1:14: W605 invalid escape sequence '\\S'\n"
     ]
    }
   ],
   "source": [
    "os.listdir(\".\\SpamAssassinMessages\")"
   ]
  },
  {
   "cell_type": "code",
   "execution_count": 50,
   "id": "c621c957",
   "metadata": {},
   "outputs": [
    {
     "name": "stderr",
     "output_type": "stream",
     "text": [
      "8:36: W605 invalid escape sequence '\\S'\n"
     ]
    }
   ],
   "source": [
    "file_name = []\n",
    "contents = []\n",
    "types = []\n",
    "labels = []\n",
    "labelnames = []\n",
    "message = ''\n",
    "\n",
    "for root, dirs, files in os.walk(\".\\SpamAssassinMessages\"):\n",
    "    for name in files:\n",
    "        with open(os.path.join(root, name),\n",
    "                  'r', encoding='latin1') as f:\n",
    "            message = ''\n",
    "            try:\n",
    "                x = email.message_from_file(f)\n",
    "            except UnicodeDecodeError:\n",
    "                print(\"Error in file: Unknown Error\")\n",
    "            if \"multipart\" in x.get_content_type():\n",
    "                if x.is_multipart():\n",
    "                    for part in x.get_payload():\n",
    "                        message = message + part.as_string()\n",
    "                contents.append(message)\n",
    "            elif \"text/plain\" in x.get_content_type():\n",
    "                contents.append(x.get_payload()\n",
    "                                .replace(\"\\n\", \" \"))\n",
    "            elif \"text/html\" in x.get_content_type():\n",
    "                contents.append(BS4(x.get_payload()).get_text())\n",
    "            types.append(x.get_content_type())\n",
    "            if \"ham\" in root:\n",
    "                labelnames.append('ham')\n",
    "                labels.append(1)\n",
    "            elif \"spam\" in root:\n",
    "                labelnames.append('spam')\n",
    "                labels.append(0)\n",
    "            else:\n",
    "                print(\"YOU HAVE A BIG PROBLEM--LABEL NOT FOUND\")\n",
    "            file_name.append(os.path.join(root, name))"
   ]
  },
  {
   "cell_type": "code",
   "execution_count": 51,
   "id": "6c204450",
   "metadata": {},
   "outputs": [
    {
     "data": {
      "text/plain": [
       "text/plain                     2996\n",
       "text/html                      1008\n",
       "multipart/alternative           265\n",
       "multipart/mixed                 141\n",
       "multipart/related                45\n",
       "multipart/signed                 45\n",
       "text/plain charset=us-ascii       1\n",
       "dtype: int64"
      ]
     },
     "execution_count": 51,
     "metadata": {},
     "output_type": "execute_result"
    }
   ],
   "source": [
    "types = pd.DataFrame(types)\n",
    "types.shape\n",
    "types.value_counts()"
   ]
  },
  {
   "cell_type": "code",
   "execution_count": 52,
   "id": "f30d4876",
   "metadata": {},
   "outputs": [],
   "source": [
    "df_NB = pd.DataFrame()\n",
    "df_NB['Filename'] = file_name\n",
    "df_NB['types'] = types\n",
    "df_NB['email_body'] = contents\n",
    "df_NB['labelnames'] = labelnames\n",
    "df_NB['labels'] = labels"
   ]
  },
  {
   "cell_type": "code",
   "execution_count": 53,
   "id": "fc226ab6",
   "metadata": {},
   "outputs": [
    {
     "data": {
      "text/html": [
       "<div>\n",
       "<style scoped>\n",
       "    .dataframe tbody tr th:only-of-type {\n",
       "        vertical-align: middle;\n",
       "    }\n",
       "\n",
       "    .dataframe tbody tr th {\n",
       "        vertical-align: top;\n",
       "    }\n",
       "\n",
       "    .dataframe thead th {\n",
       "        text-align: right;\n",
       "    }\n",
       "</style>\n",
       "<table border=\"1\" class=\"dataframe\">\n",
       "  <thead>\n",
       "    <tr style=\"text-align: right;\">\n",
       "      <th></th>\n",
       "      <th>Filename</th>\n",
       "      <th>types</th>\n",
       "      <th>email_body</th>\n",
       "      <th>labelnames</th>\n",
       "      <th>labels</th>\n",
       "    </tr>\n",
       "  </thead>\n",
       "  <tbody>\n",
       "    <tr>\n",
       "      <th>0</th>\n",
       "      <td>.\\SpamAssassinMessages\\easy_ham\\00001.7c53336b...</td>\n",
       "      <td>text/plain</td>\n",
       "      <td>Date:        Wed, 21 Aug 2002 10:54:46 -05...</td>\n",
       "      <td>ham</td>\n",
       "      <td>1</td>\n",
       "    </tr>\n",
       "    <tr>\n",
       "      <th>1</th>\n",
       "      <td>.\\SpamAssassinMessages\\easy_ham\\00002.9c4069e2...</td>\n",
       "      <td>text/plain</td>\n",
       "      <td>Martin A posted: Tassos Papadopoulos, the Gree...</td>\n",
       "      <td>ham</td>\n",
       "      <td>1</td>\n",
       "    </tr>\n",
       "    <tr>\n",
       "      <th>2</th>\n",
       "      <td>.\\SpamAssassinMessages\\easy_ham\\00003.860e3c3c...</td>\n",
       "      <td>text/plain</td>\n",
       "      <td>Man Threatens Explosion In Moscow   Thursday A...</td>\n",
       "      <td>ham</td>\n",
       "      <td>1</td>\n",
       "    </tr>\n",
       "    <tr>\n",
       "      <th>3</th>\n",
       "      <td>.\\SpamAssassinMessages\\easy_ham\\00004.864220c5...</td>\n",
       "      <td>text/plain</td>\n",
       "      <td>Klez: The Virus That Won't Die   Already the m...</td>\n",
       "      <td>ham</td>\n",
       "      <td>1</td>\n",
       "    </tr>\n",
       "    <tr>\n",
       "      <th>4</th>\n",
       "      <td>.\\SpamAssassinMessages\\easy_ham\\00005.bf27cdea...</td>\n",
       "      <td>text/plain</td>\n",
       "      <td>&gt;  in adding cream to spaghetti carbonara, whi...</td>\n",
       "      <td>ham</td>\n",
       "      <td>1</td>\n",
       "    </tr>\n",
       "    <tr>\n",
       "      <th>...</th>\n",
       "      <td>...</td>\n",
       "      <td>...</td>\n",
       "      <td>...</td>\n",
       "      <td>...</td>\n",
       "      <td>...</td>\n",
       "    </tr>\n",
       "    <tr>\n",
       "      <th>4496</th>\n",
       "      <td>.\\SpamAssassinMessages\\spam_2\\00999.f46c3f4b40...</td>\n",
       "      <td>text/html</td>\n",
       "      <td>\\nHello, \\nPremium Phone Qualified \\nBusiness ...</td>\n",
       "      <td>spam</td>\n",
       "      <td>0</td>\n",
       "    </tr>\n",
       "    <tr>\n",
       "      <th>4497</th>\n",
       "      <td>.\\SpamAssassinMessages\\spam_2\\01000.a6f2693762...</td>\n",
       "      <td>text/plain</td>\n",
       "      <td>Below is the result of your feedback form.  It...</td>\n",
       "      <td>spam</td>\n",
       "      <td>0</td>\n",
       "    </tr>\n",
       "    <tr>\n",
       "      <th>4498</th>\n",
       "      <td>.\\SpamAssassinMessages\\spam_2\\01001.742869a142...</td>\n",
       "      <td>text/plain</td>\n",
       "      <td>Hi,  I'm a college dropout.  I work about two ...</td>\n",
       "      <td>spam</td>\n",
       "      <td>0</td>\n",
       "    </tr>\n",
       "    <tr>\n",
       "      <th>4499</th>\n",
       "      <td>.\\SpamAssassinMessages\\spam_2\\01002.406c1c709e...</td>\n",
       "      <td>text/html</td>\n",
       "      <td>\\n\\n\\n\\n\\n\\n\\n\\n\\n\\n\\n\\n\\n\\n\\n\\n\\n\\n\\n\\n\\n\\n\\n...</td>\n",
       "      <td>spam</td>\n",
       "      <td>0</td>\n",
       "    </tr>\n",
       "    <tr>\n",
       "      <th>4500</th>\n",
       "      <td>.\\SpamAssassinMessages\\spam_2\\01003.d15cfb5796...</td>\n",
       "      <td>text/html</td>\n",
       "      <td>=3Chtml=3E=3Chead=3E=3Cmeta http-equiv=3DConte...</td>\n",
       "      <td>spam</td>\n",
       "      <td>0</td>\n",
       "    </tr>\n",
       "  </tbody>\n",
       "</table>\n",
       "<p>4501 rows × 5 columns</p>\n",
       "</div>"
      ],
      "text/plain": [
       "                                               Filename       types  \\\n",
       "0     .\\SpamAssassinMessages\\easy_ham\\00001.7c53336b...  text/plain   \n",
       "1     .\\SpamAssassinMessages\\easy_ham\\00002.9c4069e2...  text/plain   \n",
       "2     .\\SpamAssassinMessages\\easy_ham\\00003.860e3c3c...  text/plain   \n",
       "3     .\\SpamAssassinMessages\\easy_ham\\00004.864220c5...  text/plain   \n",
       "4     .\\SpamAssassinMessages\\easy_ham\\00005.bf27cdea...  text/plain   \n",
       "...                                                 ...         ...   \n",
       "4496  .\\SpamAssassinMessages\\spam_2\\00999.f46c3f4b40...   text/html   \n",
       "4497  .\\SpamAssassinMessages\\spam_2\\01000.a6f2693762...  text/plain   \n",
       "4498  .\\SpamAssassinMessages\\spam_2\\01001.742869a142...  text/plain   \n",
       "4499  .\\SpamAssassinMessages\\spam_2\\01002.406c1c709e...   text/html   \n",
       "4500  .\\SpamAssassinMessages\\spam_2\\01003.d15cfb5796...   text/html   \n",
       "\n",
       "                                             email_body labelnames  labels  \n",
       "0         Date:        Wed, 21 Aug 2002 10:54:46 -05...        ham       1  \n",
       "1     Martin A posted: Tassos Papadopoulos, the Gree...        ham       1  \n",
       "2     Man Threatens Explosion In Moscow   Thursday A...        ham       1  \n",
       "3     Klez: The Virus That Won't Die   Already the m...        ham       1  \n",
       "4     >  in adding cream to spaghetti carbonara, whi...        ham       1  \n",
       "...                                                 ...        ...     ...  \n",
       "4496  \\nHello, \\nPremium Phone Qualified \\nBusiness ...       spam       0  \n",
       "4497  Below is the result of your feedback form.  It...       spam       0  \n",
       "4498  Hi,  I'm a college dropout.  I work about two ...       spam       0  \n",
       "4499  \\n\\n\\n\\n\\n\\n\\n\\n\\n\\n\\n\\n\\n\\n\\n\\n\\n\\n\\n\\n\\n\\n\\n...       spam       0  \n",
       "4500  =3Chtml=3E=3Chead=3E=3Cmeta http-equiv=3DConte...       spam       0  \n",
       "\n",
       "[4501 rows x 5 columns]"
      ]
     },
     "execution_count": 53,
     "metadata": {},
     "output_type": "execute_result"
    }
   ],
   "source": [
    "df_NB"
   ]
  },
  {
   "cell_type": "markdown",
   "id": "c9033842",
   "metadata": {},
   "source": [
    "### Naive Bayes Portion\n",
    "\n",
    "##### Using Count Vectorizer"
   ]
  },
  {
   "cell_type": "code",
   "execution_count": 73,
   "id": "b735c285",
   "metadata": {},
   "outputs": [],
   "source": [
    "# Import Naive Bayes\n",
    "\n",
    "from sklearn.feature_extraction.text import CountVectorizer, TfidfVectorizer\n",
    "from sklearn.naive_bayes import MultinomialNB\n",
    "from sklearn.metrics import ConfusionMatrixDisplay, confusion_matrix\n",
    "from sklearn.metrics import classification_report\n",
    "from sklearn.model_selection import train_test_split\n",
    "from sklearn.model_selection import GridSearchCV\n",
    "from sklearn.pipeline import Pipeline"
   ]
  },
  {
   "cell_type": "code",
   "execution_count": 74,
   "id": "f3230f2c",
   "metadata": {},
   "outputs": [
    {
     "name": "stdout",
     "output_type": "stream",
     "text": [
      "No. of training examples: 3600\n",
      "No. of testing examples: 901\n"
     ]
    }
   ],
   "source": [
    "training_data, testing_data = \\\n",
    "    train_test_split(df_NB, test_size=0.2, random_state=25)\n",
    "\n",
    "print(f\"No. of training examples: {training_data.shape[0]}\")\n",
    "print(f\"No. of testing examples: {testing_data.shape[0]}\")"
   ]
  },
  {
   "cell_type": "code",
   "execution_count": 75,
   "id": "13b9eadc",
   "metadata": {},
   "outputs": [],
   "source": [
    "the_count = CountVectorizer()\n",
    "\n",
    "Xtrain = the_count.fit_transform(training_data['email_body'])"
   ]
  },
  {
   "cell_type": "code",
   "execution_count": 76,
   "id": "0851a576",
   "metadata": {},
   "outputs": [],
   "source": [
    "Xtrain = Xtrain.toarray()"
   ]
  },
  {
   "cell_type": "code",
   "execution_count": 77,
   "id": "d88917a9",
   "metadata": {},
   "outputs": [
    {
     "data": {
      "text/html": [
       "<style>#sk-container-id-6 {color: black;background-color: white;}#sk-container-id-6 pre{padding: 0;}#sk-container-id-6 div.sk-toggleable {background-color: white;}#sk-container-id-6 label.sk-toggleable__label {cursor: pointer;display: block;width: 100%;margin-bottom: 0;padding: 0.3em;box-sizing: border-box;text-align: center;}#sk-container-id-6 label.sk-toggleable__label-arrow:before {content: \"▸\";float: left;margin-right: 0.25em;color: #696969;}#sk-container-id-6 label.sk-toggleable__label-arrow:hover:before {color: black;}#sk-container-id-6 div.sk-estimator:hover label.sk-toggleable__label-arrow:before {color: black;}#sk-container-id-6 div.sk-toggleable__content {max-height: 0;max-width: 0;overflow: hidden;text-align: left;background-color: #f0f8ff;}#sk-container-id-6 div.sk-toggleable__content pre {margin: 0.2em;color: black;border-radius: 0.25em;background-color: #f0f8ff;}#sk-container-id-6 input.sk-toggleable__control:checked~div.sk-toggleable__content {max-height: 200px;max-width: 100%;overflow: auto;}#sk-container-id-6 input.sk-toggleable__control:checked~label.sk-toggleable__label-arrow:before {content: \"▾\";}#sk-container-id-6 div.sk-estimator input.sk-toggleable__control:checked~label.sk-toggleable__label {background-color: #d4ebff;}#sk-container-id-6 div.sk-label input.sk-toggleable__control:checked~label.sk-toggleable__label {background-color: #d4ebff;}#sk-container-id-6 input.sk-hidden--visually {border: 0;clip: rect(1px 1px 1px 1px);clip: rect(1px, 1px, 1px, 1px);height: 1px;margin: -1px;overflow: hidden;padding: 0;position: absolute;width: 1px;}#sk-container-id-6 div.sk-estimator {font-family: monospace;background-color: #f0f8ff;border: 1px dotted black;border-radius: 0.25em;box-sizing: border-box;margin-bottom: 0.5em;}#sk-container-id-6 div.sk-estimator:hover {background-color: #d4ebff;}#sk-container-id-6 div.sk-parallel-item::after {content: \"\";width: 100%;border-bottom: 1px solid gray;flex-grow: 1;}#sk-container-id-6 div.sk-label:hover label.sk-toggleable__label {background-color: #d4ebff;}#sk-container-id-6 div.sk-serial::before {content: \"\";position: absolute;border-left: 1px solid gray;box-sizing: border-box;top: 0;bottom: 0;left: 50%;z-index: 0;}#sk-container-id-6 div.sk-serial {display: flex;flex-direction: column;align-items: center;background-color: white;padding-right: 0.2em;padding-left: 0.2em;position: relative;}#sk-container-id-6 div.sk-item {position: relative;z-index: 1;}#sk-container-id-6 div.sk-parallel {display: flex;align-items: stretch;justify-content: center;background-color: white;position: relative;}#sk-container-id-6 div.sk-item::before, #sk-container-id-6 div.sk-parallel-item::before {content: \"\";position: absolute;border-left: 1px solid gray;box-sizing: border-box;top: 0;bottom: 0;left: 50%;z-index: -1;}#sk-container-id-6 div.sk-parallel-item {display: flex;flex-direction: column;z-index: 1;position: relative;background-color: white;}#sk-container-id-6 div.sk-parallel-item:first-child::after {align-self: flex-end;width: 50%;}#sk-container-id-6 div.sk-parallel-item:last-child::after {align-self: flex-start;width: 50%;}#sk-container-id-6 div.sk-parallel-item:only-child::after {width: 0;}#sk-container-id-6 div.sk-dashed-wrapped {border: 1px dashed gray;margin: 0 0.4em 0.5em 0.4em;box-sizing: border-box;padding-bottom: 0.4em;background-color: white;}#sk-container-id-6 div.sk-label label {font-family: monospace;font-weight: bold;display: inline-block;line-height: 1.2em;}#sk-container-id-6 div.sk-label-container {text-align: center;}#sk-container-id-6 div.sk-container {/* jupyter's `normalize.less` sets `[hidden] { display: none; }` but bootstrap.min.css set `[hidden] { display: none !important; }` so we also need the `!important` here to be able to override the default hidden behavior on the sphinx rendered scikit-learn.org. See: https://github.com/scikit-learn/scikit-learn/issues/21755 */display: inline-block !important;position: relative;}#sk-container-id-6 div.sk-text-repr-fallback {display: none;}</style><div id=\"sk-container-id-6\" class=\"sk-top-container\"><div class=\"sk-text-repr-fallback\"><pre>MultinomialNB()</pre><b>In a Jupyter environment, please rerun this cell to show the HTML representation or trust the notebook. <br />On GitHub, the HTML representation is unable to render, please try loading this page with nbviewer.org.</b></div><div class=\"sk-container\" hidden><div class=\"sk-item\"><div class=\"sk-estimator sk-toggleable\"><input class=\"sk-toggleable__control sk-hidden--visually\" id=\"sk-estimator-id-6\" type=\"checkbox\" checked><label for=\"sk-estimator-id-6\" class=\"sk-toggleable__label sk-toggleable__label-arrow\">MultinomialNB</label><div class=\"sk-toggleable__content\"><pre>MultinomialNB()</pre></div></div></div></div></div>"
      ],
      "text/plain": [
       "MultinomialNB()"
      ]
     },
     "execution_count": 77,
     "metadata": {},
     "output_type": "execute_result"
    }
   ],
   "source": [
    "# Fit Naive Bayes model\n",
    "nb = MultinomialNB()\n",
    "nb.fit(Xtrain, training_data['labels'])"
   ]
  },
  {
   "cell_type": "code",
   "execution_count": 78,
   "id": "61ab3f94",
   "metadata": {},
   "outputs": [],
   "source": [
    "Xtest = the_count.transform(testing_data['email_body'])\n",
    "preds = nb.predict(Xtest.toarray())"
   ]
  },
  {
   "cell_type": "code",
   "execution_count": 79,
   "id": "b48fbde3",
   "metadata": {},
   "outputs": [
    {
     "data": {
      "text/plain": [
       "(901,)"
      ]
     },
     "execution_count": 79,
     "metadata": {},
     "output_type": "execute_result"
    }
   ],
   "source": [
    "preds.shape"
   ]
  },
  {
   "cell_type": "code",
   "execution_count": 80,
   "id": "0b28e388",
   "metadata": {},
   "outputs": [
    {
     "name": "stdout",
     "output_type": "stream",
     "text": [
      "              precision    recall  f1-score   support\n",
      "\n",
      "           0       0.99      0.94      0.96       412\n",
      "           1       0.95      0.99      0.97       489\n",
      "\n",
      "    accuracy                           0.97       901\n",
      "   macro avg       0.97      0.96      0.97       901\n",
      "weighted avg       0.97      0.97      0.97       901\n",
      "\n"
     ]
    }
   ],
   "source": [
    "print(classification_report(testing_data['labels'], preds))"
   ]
  },
  {
   "cell_type": "code",
   "execution_count": 81,
   "id": "6bef8854",
   "metadata": {},
   "outputs": [
    {
     "name": "stdout",
     "output_type": "stream",
     "text": [
      "[[386  26]\n",
      " [  4 485]]\n"
     ]
    }
   ],
   "source": [
    "# plot the confusion matrix\n",
    "\n",
    "cnf_matrix = confusion_matrix(testing_data['labels'], preds)\n",
    "\n",
    "print(cnf_matrix)"
   ]
  },
  {
   "cell_type": "markdown",
   "id": "ad1382a0",
   "metadata": {},
   "source": [
    "##### Using TF-IDF Vectorizor"
   ]
  },
  {
   "cell_type": "code",
   "execution_count": 82,
   "id": "1146ca8b",
   "metadata": {},
   "outputs": [],
   "source": [
    "tfidf = TfidfVectorizer()\n",
    "\n",
    "Xtrain = tfidf.fit_transform(training_data['email_body'])"
   ]
  },
  {
   "cell_type": "code",
   "execution_count": 83,
   "id": "2af31336",
   "metadata": {},
   "outputs": [],
   "source": [
    "Xtrain = Xtrain.toarray()"
   ]
  },
  {
   "cell_type": "code",
   "execution_count": 84,
   "id": "acd6f7fe",
   "metadata": {},
   "outputs": [
    {
     "data": {
      "text/html": [
       "<style>#sk-container-id-7 {color: black;background-color: white;}#sk-container-id-7 pre{padding: 0;}#sk-container-id-7 div.sk-toggleable {background-color: white;}#sk-container-id-7 label.sk-toggleable__label {cursor: pointer;display: block;width: 100%;margin-bottom: 0;padding: 0.3em;box-sizing: border-box;text-align: center;}#sk-container-id-7 label.sk-toggleable__label-arrow:before {content: \"▸\";float: left;margin-right: 0.25em;color: #696969;}#sk-container-id-7 label.sk-toggleable__label-arrow:hover:before {color: black;}#sk-container-id-7 div.sk-estimator:hover label.sk-toggleable__label-arrow:before {color: black;}#sk-container-id-7 div.sk-toggleable__content {max-height: 0;max-width: 0;overflow: hidden;text-align: left;background-color: #f0f8ff;}#sk-container-id-7 div.sk-toggleable__content pre {margin: 0.2em;color: black;border-radius: 0.25em;background-color: #f0f8ff;}#sk-container-id-7 input.sk-toggleable__control:checked~div.sk-toggleable__content {max-height: 200px;max-width: 100%;overflow: auto;}#sk-container-id-7 input.sk-toggleable__control:checked~label.sk-toggleable__label-arrow:before {content: \"▾\";}#sk-container-id-7 div.sk-estimator input.sk-toggleable__control:checked~label.sk-toggleable__label {background-color: #d4ebff;}#sk-container-id-7 div.sk-label input.sk-toggleable__control:checked~label.sk-toggleable__label {background-color: #d4ebff;}#sk-container-id-7 input.sk-hidden--visually {border: 0;clip: rect(1px 1px 1px 1px);clip: rect(1px, 1px, 1px, 1px);height: 1px;margin: -1px;overflow: hidden;padding: 0;position: absolute;width: 1px;}#sk-container-id-7 div.sk-estimator {font-family: monospace;background-color: #f0f8ff;border: 1px dotted black;border-radius: 0.25em;box-sizing: border-box;margin-bottom: 0.5em;}#sk-container-id-7 div.sk-estimator:hover {background-color: #d4ebff;}#sk-container-id-7 div.sk-parallel-item::after {content: \"\";width: 100%;border-bottom: 1px solid gray;flex-grow: 1;}#sk-container-id-7 div.sk-label:hover label.sk-toggleable__label {background-color: #d4ebff;}#sk-container-id-7 div.sk-serial::before {content: \"\";position: absolute;border-left: 1px solid gray;box-sizing: border-box;top: 0;bottom: 0;left: 50%;z-index: 0;}#sk-container-id-7 div.sk-serial {display: flex;flex-direction: column;align-items: center;background-color: white;padding-right: 0.2em;padding-left: 0.2em;position: relative;}#sk-container-id-7 div.sk-item {position: relative;z-index: 1;}#sk-container-id-7 div.sk-parallel {display: flex;align-items: stretch;justify-content: center;background-color: white;position: relative;}#sk-container-id-7 div.sk-item::before, #sk-container-id-7 div.sk-parallel-item::before {content: \"\";position: absolute;border-left: 1px solid gray;box-sizing: border-box;top: 0;bottom: 0;left: 50%;z-index: -1;}#sk-container-id-7 div.sk-parallel-item {display: flex;flex-direction: column;z-index: 1;position: relative;background-color: white;}#sk-container-id-7 div.sk-parallel-item:first-child::after {align-self: flex-end;width: 50%;}#sk-container-id-7 div.sk-parallel-item:last-child::after {align-self: flex-start;width: 50%;}#sk-container-id-7 div.sk-parallel-item:only-child::after {width: 0;}#sk-container-id-7 div.sk-dashed-wrapped {border: 1px dashed gray;margin: 0 0.4em 0.5em 0.4em;box-sizing: border-box;padding-bottom: 0.4em;background-color: white;}#sk-container-id-7 div.sk-label label {font-family: monospace;font-weight: bold;display: inline-block;line-height: 1.2em;}#sk-container-id-7 div.sk-label-container {text-align: center;}#sk-container-id-7 div.sk-container {/* jupyter's `normalize.less` sets `[hidden] { display: none; }` but bootstrap.min.css set `[hidden] { display: none !important; }` so we also need the `!important` here to be able to override the default hidden behavior on the sphinx rendered scikit-learn.org. See: https://github.com/scikit-learn/scikit-learn/issues/21755 */display: inline-block !important;position: relative;}#sk-container-id-7 div.sk-text-repr-fallback {display: none;}</style><div id=\"sk-container-id-7\" class=\"sk-top-container\"><div class=\"sk-text-repr-fallback\"><pre>MultinomialNB()</pre><b>In a Jupyter environment, please rerun this cell to show the HTML representation or trust the notebook. <br />On GitHub, the HTML representation is unable to render, please try loading this page with nbviewer.org.</b></div><div class=\"sk-container\" hidden><div class=\"sk-item\"><div class=\"sk-estimator sk-toggleable\"><input class=\"sk-toggleable__control sk-hidden--visually\" id=\"sk-estimator-id-7\" type=\"checkbox\" checked><label for=\"sk-estimator-id-7\" class=\"sk-toggleable__label sk-toggleable__label-arrow\">MultinomialNB</label><div class=\"sk-toggleable__content\"><pre>MultinomialNB()</pre></div></div></div></div></div>"
      ],
      "text/plain": [
       "MultinomialNB()"
      ]
     },
     "execution_count": 84,
     "metadata": {},
     "output_type": "execute_result"
    }
   ],
   "source": [
    "# Fit Naive Bayes model\n",
    "nb = MultinomialNB()\n",
    "nb.fit(Xtrain, training_data['labels'])"
   ]
  },
  {
   "cell_type": "code",
   "execution_count": 85,
   "id": "d615d633",
   "metadata": {},
   "outputs": [],
   "source": [
    "Xtest = tfidf.transform(testing_data['email_body'])\n",
    "preds = nb.predict(Xtest.toarray())"
   ]
  },
  {
   "cell_type": "code",
   "execution_count": 86,
   "id": "a8326ee3",
   "metadata": {},
   "outputs": [
    {
     "data": {
      "text/plain": [
       "(901,)"
      ]
     },
     "execution_count": 86,
     "metadata": {},
     "output_type": "execute_result"
    }
   ],
   "source": [
    "preds.shape"
   ]
  },
  {
   "cell_type": "code",
   "execution_count": 87,
   "id": "dc119f34",
   "metadata": {},
   "outputs": [
    {
     "name": "stdout",
     "output_type": "stream",
     "text": [
      "              precision    recall  f1-score   support\n",
      "\n",
      "           0       0.97      0.90      0.94       412\n",
      "           1       0.92      0.98      0.95       489\n",
      "\n",
      "    accuracy                           0.94       901\n",
      "   macro avg       0.95      0.94      0.94       901\n",
      "weighted avg       0.95      0.94      0.94       901\n",
      "\n"
     ]
    }
   ],
   "source": [
    "print(classification_report(testing_data['labels'], preds))"
   ]
  },
  {
   "cell_type": "code",
   "execution_count": 88,
   "id": "af3d6f8e",
   "metadata": {},
   "outputs": [
    {
     "name": "stdout",
     "output_type": "stream",
     "text": [
      "[[371  41]\n",
      " [ 10 479]]\n"
     ]
    }
   ],
   "source": [
    "# plot the confusion matrix\n",
    "\n",
    "cnf_matrix = confusion_matrix(testing_data['labels'], preds)\n",
    "\n",
    "print(cnf_matrix)"
   ]
  },
  {
   "cell_type": "code",
   "execution_count": 70,
   "id": "0c83e77a",
   "metadata": {},
   "outputs": [
    {
     "name": "stdout",
     "output_type": "stream",
     "text": [
      "Best parameters set found on development set:\n",
      "{'clf__alpha': 0.1, 'vect__ngram_range': (1, 2)}\n",
      "              precision    recall  f1-score   support\n",
      "\n",
      "           0       1.00      0.96      0.98       412\n",
      "           1       0.97      1.00      0.98       489\n",
      "\n",
      "    accuracy                           0.98       901\n",
      "   macro avg       0.98      0.98      0.98       901\n",
      "weighted avg       0.98      0.98      0.98       901\n",
      "\n",
      "[[396  16]\n",
      " [  1 488]]\n"
     ]
    }
   ],
   "source": [
    "text_clf = Pipeline([\n",
    "    ('vect', CountVectorizer()),\n",
    "    ('clf', MultinomialNB()),\n",
    "])\n",
    "\n",
    "parameters = {\n",
    "    'vect__ngram_range': [(1, 1), (1, 2)],\n",
    "    'clf__alpha': [0.1, 1, 10],\n",
    "}\n",
    "\n",
    "clf2 = GridSearchCV(text_clf, parameters, cv=5)\n",
    "clf2.fit(training_data['email_body'], training_data['labels'])\n",
    "\n",
    "print(\"Best parameters set found on development set:\")\n",
    "print(clf2.best_params_)\n",
    "\n",
    "preds = clf2.predict(testing_data['email_body'])\n",
    "print(classification_report(testing_data['labels'], preds))\n",
    "\n",
    "cnf2_matrix = confusion_matrix(testing_data['labels'], preds)\n",
    "print(cnf2_matrix)"
   ]
  }
 ],
 "metadata": {
  "kernelspec": {
   "display_name": "Python 3 (ipykernel)",
   "language": "python",
   "name": "python3"
  },
  "language_info": {
   "codemirror_mode": {
    "name": "ipython",
    "version": 3
   },
   "file_extension": ".py",
   "mimetype": "text/x-python",
   "name": "python",
   "nbconvert_exporter": "python",
   "pygments_lexer": "ipython3",
   "version": "3.8.13"
  }
 },
 "nbformat": 4,
 "nbformat_minor": 5
}
